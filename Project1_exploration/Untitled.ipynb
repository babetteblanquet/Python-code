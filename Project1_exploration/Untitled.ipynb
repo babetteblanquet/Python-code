{
 "cells": [
  {
   "cell_type": "code",
   "execution_count": 9,
   "metadata": {},
   "outputs": [],
   "source": [
    "import pandas as pd"
   ]
  },
  {
   "cell_type": "code",
   "execution_count": 43,
   "metadata": {},
   "outputs": [
    {
     "data": {
      "text/plain": [
       "city    object\n",
       "lat     object\n",
       "lon     object\n",
       "dtype: object"
      ]
     },
     "execution_count": 43,
     "metadata": {},
     "output_type": "execute_result"
    }
   ],
   "source": [
    "cities = pd.DataFrame({\n",
    "    \"city\" : ['Sydney',\"Melbourne\",'Brisbane','Perth','Adelaide'],\n",
    "  'lat' : [\"-33.8688\", \"-37.8136\", \"-27.4698\", \"-31.9505\", \"-34.9285\"],\n",
    "   'lon' : [\"151.2094\", \"144.9631\",\"153.0251\", \"115.8605\", \"138.6007\"]\n",
    "})\n",
    "cities.dtypes"
   ]
  },
  {
   "cell_type": "code",
   "execution_count": 45,
   "metadata": {},
   "outputs": [
    {
     "data": {
      "text/plain": [
       "0    151.2094\n",
       "1    144.9631\n",
       "2    153.0251\n",
       "3    115.8605\n",
       "4    138.6007\n",
       "Name: lon, dtype: float64"
      ]
     },
     "execution_count": 45,
     "metadata": {},
     "output_type": "execute_result"
    }
   ],
   "source": [
    "for row in cities[\"city\"]:\n",
    "    lat1=cities[\"lat\"].astype(float)\n",
    "    lon1=cities[\"lon\"].astype(float)\n",
    "lat1\n",
    "lon1"
   ]
  },
  {
   "cell_type": "code",
   "execution_count": 46,
   "metadata": {},
   "outputs": [
    {
     "data": {
      "text/plain": [
       "0    260\n",
       "1    259\n",
       "2    298\n",
       "3    296\n",
       "4    297\n",
       "Name: entity_ID, dtype: int32"
      ]
     },
     "execution_count": 46,
     "metadata": {},
     "output_type": "execute_result"
    }
   ],
   "source": [
    "cities = pd.DataFrame({\n",
    "    \"city\" : ['Sydney',\"Melbourne\",'Brisbane','Perth','Adelaide'],\n",
    "    \"entity_ID\" : [\"260\", \"259\", \"298\", \"296\", \"297\"]\n",
    "    })\n",
    "cities[\"entity_ID\"].astype(int)"
   ]
  },
  {
   "cell_type": "code",
   "execution_count": 35,
   "metadata": {},
   "outputs": [
    {
     "data": {
      "text/plain": [
       "0    260\n",
       "1    259\n",
       "2    298\n",
       "3    296\n",
       "4    297\n",
       "Name: entity_ID, dtype: object"
      ]
     },
     "execution_count": 35,
     "metadata": {},
     "output_type": "execute_result"
    }
   ],
   "source": [
    "for row in cities[\"city\"]:\n",
    "    ID=cities[\"entity_ID\"]\n",
    "\n",
    "ID"
   ]
  },
  {
   "cell_type": "code",
   "execution_count": 41,
   "metadata": {},
   "outputs": [
    {
     "data": {
      "text/plain": [
       "city         object\n",
       "entity_ID    object\n",
       "dtype: object"
      ]
     },
     "execution_count": 41,
     "metadata": {},
     "output_type": "execute_result"
    }
   ],
   "source": [
    "cities.dtypes"
   ]
  },
  {
   "cell_type": "code",
   "execution_count": null,
   "metadata": {},
   "outputs": [],
   "source": []
  }
 ],
 "metadata": {
  "kernelspec": {
   "display_name": "Python 3",
   "language": "python",
   "name": "python3"
  },
  "language_info": {
   "codemirror_mode": {
    "name": "ipython",
    "version": 3
   },
   "file_extension": ".py",
   "mimetype": "text/x-python",
   "name": "python",
   "nbconvert_exporter": "python",
   "pygments_lexer": "ipython3",
   "version": "3.7.6"
  }
 },
 "nbformat": 4,
 "nbformat_minor": 4
}
