{
 "cells": [
  {
   "cell_type": "code",
   "execution_count": 59,
   "metadata": {},
   "outputs": [],
   "source": [
    "# Dependencies and Setup\n",
    "import matplotlib.pyplot as plt\n",
    "import pandas as pd\n",
    "import numpy as np\n",
    "import requests\n",
    "import gmaps\n",
    "import json\n",
    "from pprint import pprint\n",
    "import scipy.stats as st\n",
    "from scipy.stats import linregress\n",
    "\n",
    "\n",
    "# Resource File (CSV)\n",
    "df497 = pd.read_csv(\"output_data/Top_497.csv\")"
   ]
  },
  {
   "cell_type": "code",
   "execution_count": 60,
   "metadata": {},
   "outputs": [
    {
     "data": {
      "text/html": [
       "<div>\n",
       "<style scoped>\n",
       "    .dataframe tbody tr th:only-of-type {\n",
       "        vertical-align: middle;\n",
       "    }\n",
       "\n",
       "    .dataframe tbody tr th {\n",
       "        vertical-align: top;\n",
       "    }\n",
       "\n",
       "    .dataframe thead th {\n",
       "        text-align: right;\n",
       "    }\n",
       "</style>\n",
       "<table border=\"1\" class=\"dataframe\">\n",
       "  <thead>\n",
       "    <tr style=\"text-align: right;\">\n",
       "      <th></th>\n",
       "      <th>Average Cost for two</th>\n",
       "    </tr>\n",
       "    <tr>\n",
       "      <th>City</th>\n",
       "      <th></th>\n",
       "    </tr>\n",
       "  </thead>\n",
       "  <tbody>\n",
       "    <tr>\n",
       "      <th>Adelaide</th>\n",
       "      <td>79.030612</td>\n",
       "    </tr>\n",
       "    <tr>\n",
       "      <th>Brisbane</th>\n",
       "      <td>72.730000</td>\n",
       "    </tr>\n",
       "    <tr>\n",
       "      <th>Melbourne</th>\n",
       "      <td>120.250000</td>\n",
       "    </tr>\n",
       "    <tr>\n",
       "      <th>Perth</th>\n",
       "      <td>82.090909</td>\n",
       "    </tr>\n",
       "    <tr>\n",
       "      <th>Sydney</th>\n",
       "      <td>98.050000</td>\n",
       "    </tr>\n",
       "  </tbody>\n",
       "</table>\n",
       "</div>"
      ],
      "text/plain": [
       "           Average Cost for two\n",
       "City                           \n",
       "Adelaide              79.030612\n",
       "Brisbane              72.730000\n",
       "Melbourne            120.250000\n",
       "Perth                 82.090909\n",
       "Sydney                98.050000"
      ]
     },
     "execution_count": 60,
     "metadata": {},
     "output_type": "execute_result"
    }
   ],
   "source": [
    "#Group df by City\n",
    "group_all_cities = df497.groupby(\"City\")\n",
    "#Calculation of the average cost and user-rating per city\n",
    "#Calculate the average cost for two per city\n",
    "average_all_cities = pd.DataFrame(group_all_cities[\"Average Cost for two\"].mean())\n",
    "\n",
    "average_all_cities"
   ]
  },
  {
   "cell_type": "code",
   "execution_count": 61,
   "metadata": {},
   "outputs": [
    {
     "data": {
      "image/png": "[encoded data removed]",
      "text/plain": [
       "<Figure size 460.8x302.4 with 1 Axes>"
      ]
     },
     "metadata": {
      "needs_background": "light"
     },
     "output_type": "display_data"
    },
    {
     "data": {
      "text/plain": [
       "<Figure size 432x288 with 0 Axes>"
      ]
     },
     "metadata": {},
     "output_type": "display_data"
    }
   ],
   "source": [
    "average_all_cities.plot(kind=\"bar\", facecolor=\"blue\", alpha=0.6, figsize=(6.4,4.2), legend = None)\n",
    "# Set textual properties\n",
    "plt.title(\"Average cost for two per city\")\n",
    "plt.ylabel(\"Average cost for two\")\n",
    "plt.xlim(-0.5,len(average_all_cities)-0.5)\n",
    "plt.ylim(0,max(average_all_cities[\"Average Cost for two\"])+10)\n",
    "# Show plot\n",
    "plt.show()\n",
    "plt.tight_layout()"
   ]
  },
  {
   "cell_type": "code",
   "execution_count": 62,
   "metadata": {},
   "outputs": [
    {
     "data": {
      "text/html": [
       "<div>\n",
       "<style scoped>\n",
       "    .dataframe tbody tr th:only-of-type {\n",
       "        vertical-align: middle;\n",
       "    }\n",
       "\n",
       "    .dataframe tbody tr th {\n",
       "        vertical-align: top;\n",
       "    }\n",
       "\n",
       "    .dataframe thead th {\n",
       "        text-align: right;\n",
       "    }\n",
       "</style>\n",
       "<table border=\"1\" class=\"dataframe\">\n",
       "  <thead>\n",
       "    <tr style=\"text-align: right;\">\n",
       "      <th></th>\n",
       "      <th>Average Cost for two</th>\n",
       "    </tr>\n",
       "    <tr>\n",
       "      <th>City</th>\n",
       "      <th></th>\n",
       "    </tr>\n",
       "  </thead>\n",
       "  <tbody>\n",
       "    <tr>\n",
       "      <th>Adelaide</th>\n",
       "      <td>75</td>\n",
       "    </tr>\n",
       "    <tr>\n",
       "      <th>Brisbane</th>\n",
       "      <td>60</td>\n",
       "    </tr>\n",
       "    <tr>\n",
       "      <th>Melbourne</th>\n",
       "      <td>90</td>\n",
       "    </tr>\n",
       "    <tr>\n",
       "      <th>Perth</th>\n",
       "      <td>65</td>\n",
       "    </tr>\n",
       "    <tr>\n",
       "      <th>Sydney</th>\n",
       "      <td>80</td>\n",
       "    </tr>\n",
       "  </tbody>\n",
       "</table>\n",
       "</div>"
      ],
      "text/plain": [
       "           Average Cost for two\n",
       "City                           \n",
       "Adelaide                     75\n",
       "Brisbane                     60\n",
       "Melbourne                    90\n",
       "Perth                        65\n",
       "Sydney                       80"
      ]
     },
     "execution_count": 62,
     "metadata": {},
     "output_type": "execute_result"
    }
   ],
   "source": [
    "#Calculate the median of the average cost for two per city\n",
    "median_all_cities = pd.DataFrame(group_all_cities\n",
    "                                 [\"Average Cost for two\"].median())\n",
    "median_all_cities"
   ]
  },
  {
   "cell_type": "code",
   "execution_count": 63,
   "metadata": {},
   "outputs": [
    {
     "data": {
      "text/plain": [
       "70.0"
      ]
     },
     "execution_count": 63,
     "metadata": {},
     "output_type": "execute_result"
    }
   ],
   "source": [
    "#Calculating the median across the 500 restaurants in Australia\n",
    "median = df497[\"Average Cost for two\"].median()\n",
    "median"
   ]
  },
  {
   "cell_type": "code",
   "execution_count": 64,
   "metadata": {},
   "outputs": [
    {
     "data": {
      "image/png": "[encoded data removed]",
      "text/plain": [
       "<Figure size 432x288 with 1 Axes>"
      ]
     },
     "metadata": {
      "needs_background": "light"
     },
     "output_type": "display_data"
    }
   ],
   "source": [
    "# Generate a box plot of the average cost for two across the five cities\n",
    "Rest_Melbourne = df497.loc[df497[\"City\"]==\"Melbourne\",\"Average Cost for two\"]\n",
    "Rest_Sydney = df497.loc[df497[\"City\"]==\"Sydney\",\"Average Cost for two\"]\n",
    "Rest_Adelaide = df497.loc[df497[\"City\"]==\"Adelaide\",\"Average Cost for two\"]\n",
    "Rest_Brisbane = df497.loc[df497[\"City\"]==\"Brisbane\",\"Average Cost for two\"]\n",
    "Rest_Perth = df497.loc[df497[\"City\"]==\"Perth\",\"Average Cost for two\"]\n",
    "\n",
    "all_cities_data = [Rest_Melbourne,Rest_Sydney, Rest_Adelaide,Rest_Brisbane,Rest_Perth]\n",
    "all_cities = [\"Melbourne\", \"Sydney\", \"Adelaide\", \"Brisbane\", \"Perth\"]\n",
    "red_square = dict(markerfacecolor='r', marker='s')\n",
    "\n",
    "fig1, ax1 = plt.subplots()\n",
    "ax1.set_title('Average Cost for two per city')\n",
    "ax1.set_xticklabels(all_cities, rotation=0, fontsize=10)\n",
    "ax1.set_ylabel('Average Cost for two')\n",
    "ax1.boxplot(all_cities_data, flierprops=red_square)\n",
    "#Save image \n",
    "plt.savefig('images/Outliers per city.png')\n",
    "plt.show()"
   ]
  },
  {
   "cell_type": "code",
   "execution_count": 65,
   "metadata": {},
   "outputs": [
    {
     "data": {
      "text/html": [
       "<div>\n",
       "<style scoped>\n",
       "    .dataframe tbody tr th:only-of-type {\n",
       "        vertical-align: middle;\n",
       "    }\n",
       "\n",
       "    .dataframe tbody tr th {\n",
       "        vertical-align: top;\n",
       "    }\n",
       "\n",
       "    .dataframe thead th {\n",
       "        text-align: right;\n",
       "    }\n",
       "</style>\n",
       "<table border=\"1\" class=\"dataframe\">\n",
       "  <thead>\n",
       "    <tr style=\"text-align: right;\">\n",
       "      <th></th>\n",
       "      <th>User Rating</th>\n",
       "    </tr>\n",
       "    <tr>\n",
       "      <th>City</th>\n",
       "      <th></th>\n",
       "    </tr>\n",
       "  </thead>\n",
       "  <tbody>\n",
       "    <tr>\n",
       "      <th>Adelaide</th>\n",
       "      <td>4.39</td>\n",
       "    </tr>\n",
       "    <tr>\n",
       "      <th>Brisbane</th>\n",
       "      <td>4.51</td>\n",
       "    </tr>\n",
       "    <tr>\n",
       "      <th>Melbourne</th>\n",
       "      <td>4.67</td>\n",
       "    </tr>\n",
       "    <tr>\n",
       "      <th>Perth</th>\n",
       "      <td>4.47</td>\n",
       "    </tr>\n",
       "    <tr>\n",
       "      <th>Sydney</th>\n",
       "      <td>4.63</td>\n",
       "    </tr>\n",
       "  </tbody>\n",
       "</table>\n",
       "</div>"
      ],
      "text/plain": [
       "           User Rating\n",
       "City                  \n",
       "Adelaide          4.39\n",
       "Brisbane          4.51\n",
       "Melbourne         4.67\n",
       "Perth             4.47\n",
       "Sydney            4.63"
      ]
     },
     "execution_count": 65,
     "metadata": {},
     "output_type": "execute_result"
    }
   ],
   "source": [
    "#Calculate the average user rating per city\n",
    "cities_average_rating = pd.DataFrame(group_all_cities[\"User Rating\"].mean())\n",
    "#Insert a column with average rating\n",
    "cities_average_rating.round(2)\n",
    "\n"
   ]
  },
  {
   "cell_type": "code",
   "execution_count": 66,
   "metadata": {},
   "outputs": [
    {
     "data": {
      "image/png": "[encoded data removed]",
      "text/plain": [
       "<Figure size 460.8x302.4 with 1 Axes>"
      ]
     },
     "metadata": {
      "needs_background": "light"
     },
     "output_type": "display_data"
    },
    {
     "data": {
      "text/plain": [
       "<Figure size 432x288 with 0 Axes>"
      ]
     },
     "metadata": {},
     "output_type": "display_data"
    }
   ],
   "source": [
    "#Plotting the average rating per city\n",
    "cities_average_rating.plot(kind=\"bar\", facecolor=\"blue\", alpha=0.6, rot=0,\n",
    "                           figsize=(6.4,4.2), legend = None)\n",
    "# Set textual properties\n",
    "plt.title(\"Average user rating per city\")\n",
    "plt.ylabel(\"Average user rating\")\n",
    "plt.xlim(-0.5,len(cities_average_rating)-0.5)\n",
    "plt.ylim(0,max(cities_average_rating[\"User Rating\"])+0.5)\n",
    "#Save image\n",
    "plt.savefig('images/Average User rating per city.png')\n",
    "# Show plot\n",
    "plt.show()\n",
    "plt.tight_layout()"
   ]
  },
  {
   "cell_type": "code",
   "execution_count": 67,
   "metadata": {},
   "outputs": [
    {
     "data": {
      "image/png": "[encoded data removed]",
      "text/plain": [
       "<Figure size 432x288 with 1 Axes>"
      ]
     },
     "metadata": {
      "needs_background": "light"
     },
     "output_type": "display_data"
    },
    {
     "name": "stdout",
     "output_type": "stream",
     "text": [
      "The correlation coefficient between User Rating and Average Cost for two is 0.29\n"
     ]
    }
   ],
   "source": [
    "#Scatter plot of the average cost two and average rating\n",
    "#Scatter plot Average cost for two vs User Rating\n",
    "x2 = df497[\"Average Cost for two\"]\n",
    "y2 = df497[\"User Rating\"] \n",
    "\n",
    "plt.scatter(x2,y2, color='blue', edgecolor = 'black', alpha=0.5)\n",
    "plt.xlabel('Average Cost for two ($)')\n",
    "plt.ylabel('User Rating')\n",
    "plt.title('User Rating vs Average Cost for two')\n",
    "plt.savefig('images/User Rating vs. Average Cost for two.png')\n",
    "plt.show()\n",
    "print(f\"The correlation coefficient between User Rating and Average Cost for two is {round(st.pearsonr(x_values,y_values)[0],2)}\")"
   ]
  },
  {
   "cell_type": "code",
   "execution_count": 52,
   "metadata": {},
   "outputs": [
    {
     "name": "stdout",
     "output_type": "stream",
     "text": [
      "The correlation coefficient between User Rating and Average Cost for two is 0.29\n",
      "The linear regression equation is : y = 0.0x + 4.47\n",
      "The r-squared is: 0.08187257960852534\n"
     ]
    },
    {
     "data": {
      "image/png": "[encoded data removed]",
      "text/plain": [
       "<Figure size 432x288 with 1 Axes>"
      ]
     },
     "metadata": {
      "needs_background": "light"
     },
     "output_type": "display_data"
    }
   ],
   "source": [
    "#Correlation coefficient:\n",
    "x_values = df497[\"Average Cost for two\"]\n",
    "y_values = df497[\"User Rating\"] \n",
    "\n",
    "(slope, intercept, rvalue, pvalue, stderr) = linregress(x_values, y_values)\n",
    "regress_values = x_values * slope + intercept\n",
    "line_eq = \"y = \" + str(round(slope,2)) + \"x + \" + str(round(intercept,2))\n",
    "print(f\"The linear regression equation is : {line_eq}\")\n",
    "plt.annotate(line_eq,(5,32),fontsize=15,color=\"red\")\n",
    "plt.scatter(x_values,y_values, alpha=0.5)\n",
    "plt.plot(x_values,regress_values,\"r-\")\n",
    "print(f\"The r-squared is: {rvalue**2}\")\n",
    "plt.show()"
   ]
  },
  {
   "cell_type": "code",
   "execution_count": 19,
   "metadata": {},
   "outputs": [
    {
     "ename": "NameError",
     "evalue": "name 'linregress' is not defined",
     "output_type": "error",
     "traceback": [
      "\u001b[1;31m---------------------------------------------------------------------------\u001b[0m",
      "\u001b[1;31mNameError\u001b[0m                                 Traceback (most recent call last)",
      "\u001b[1;32m<ipython-input-19-7fee3e69cd9a>\u001b[0m in \u001b[0;36m<module>\u001b[1;34m\u001b[0m\n\u001b[0;32m      2\u001b[0m \u001b[0my_values\u001b[0m \u001b[1;33m=\u001b[0m \u001b[0mdf497\u001b[0m\u001b[1;33m[\u001b[0m\u001b[1;34m\"User Rating\"\u001b[0m\u001b[1;33m]\u001b[0m\u001b[1;33m\u001b[0m\u001b[1;33m\u001b[0m\u001b[0m\n\u001b[0;32m      3\u001b[0m \u001b[1;33m\u001b[0m\u001b[0m\n\u001b[1;32m----> 4\u001b[1;33m \u001b[1;33m(\u001b[0m\u001b[0mslope\u001b[0m\u001b[1;33m,\u001b[0m \u001b[0mintercept\u001b[0m\u001b[1;33m,\u001b[0m \u001b[0mrvalue\u001b[0m\u001b[1;33m,\u001b[0m \u001b[0mpvalue\u001b[0m\u001b[1;33m,\u001b[0m \u001b[0mstderr\u001b[0m\u001b[1;33m)\u001b[0m \u001b[1;33m=\u001b[0m \u001b[0mlinregress\u001b[0m\u001b[1;33m(\u001b[0m\u001b[0mx_values\u001b[0m\u001b[1;33m,\u001b[0m \u001b[0my_values\u001b[0m\u001b[1;33m)\u001b[0m\u001b[1;33m\u001b[0m\u001b[1;33m\u001b[0m\u001b[0m\n\u001b[0m\u001b[0;32m      5\u001b[0m \u001b[0mregress_values\u001b[0m \u001b[1;33m=\u001b[0m \u001b[0mx_values\u001b[0m \u001b[1;33m*\u001b[0m \u001b[0mslope\u001b[0m \u001b[1;33m+\u001b[0m \u001b[0mintercept\u001b[0m\u001b[1;33m\u001b[0m\u001b[1;33m\u001b[0m\u001b[0m\n\u001b[0;32m      6\u001b[0m \u001b[0mline_eq\u001b[0m \u001b[1;33m=\u001b[0m \u001b[1;34m\"y = \"\u001b[0m \u001b[1;33m+\u001b[0m \u001b[0mstr\u001b[0m\u001b[1;33m(\u001b[0m\u001b[0mround\u001b[0m\u001b[1;33m(\u001b[0m\u001b[0mslope\u001b[0m\u001b[1;33m,\u001b[0m\u001b[1;36m2\u001b[0m\u001b[1;33m)\u001b[0m\u001b[1;33m)\u001b[0m \u001b[1;33m+\u001b[0m \u001b[1;34m\"x + \"\u001b[0m \u001b[1;33m+\u001b[0m \u001b[0mstr\u001b[0m\u001b[1;33m(\u001b[0m\u001b[0mround\u001b[0m\u001b[1;33m(\u001b[0m\u001b[0mintercept\u001b[0m\u001b[1;33m,\u001b[0m\u001b[1;36m2\u001b[0m\u001b[1;33m)\u001b[0m\u001b[1;33m)\u001b[0m\u001b[1;33m\u001b[0m\u001b[1;33m\u001b[0m\u001b[0m\n",
      "\u001b[1;31mNameError\u001b[0m: name 'linregress' is not defined"
     ]
    }
   ],
   "source": []
  },
  {
   "cell_type": "code",
   "execution_count": 33,
   "metadata": {},
   "outputs": [
    {
     "data": {
      "text/html": [
       "<div>\n",
       "<style scoped>\n",
       "    .dataframe tbody tr th:only-of-type {\n",
       "        vertical-align: middle;\n",
       "    }\n",
       "\n",
       "    .dataframe tbody tr th {\n",
       "        vertical-align: top;\n",
       "    }\n",
       "\n",
       "    .dataframe thead th {\n",
       "        text-align: right;\n",
       "    }\n",
       "</style>\n",
       "<table border=\"1\" class=\"dataframe\">\n",
       "  <thead>\n",
       "    <tr style=\"text-align: right;\">\n",
       "      <th></th>\n",
       "      <th>Unnamed: 0</th>\n",
       "      <th>Restaurant_id</th>\n",
       "      <th>Name</th>\n",
       "      <th>Locality</th>\n",
       "      <th>Address</th>\n",
       "      <th>City</th>\n",
       "      <th>Latitude</th>\n",
       "      <th>Longitude</th>\n",
       "      <th>Price Range</th>\n",
       "      <th>Average Cost for two</th>\n",
       "      <th>User Rating</th>\n",
       "      <th>Rating Text</th>\n",
       "      <th>Votes</th>\n",
       "      <th>all_reviews_count</th>\n",
       "      <th>Cuisines</th>\n",
       "    </tr>\n",
       "  </thead>\n",
       "  <tbody>\n",
       "    <tr>\n",
       "      <th>0</th>\n",
       "      <td>0</td>\n",
       "      <td>15547004</td>\n",
       "      <td>Restaurant Hubert</td>\n",
       "      <td>CBD</td>\n",
       "      <td>15 Bligh Street, CBD, Sydney</td>\n",
       "      <td>Sydney</td>\n",
       "      <td>-33.865348</td>\n",
       "      <td>151.210624</td>\n",
       "      <td>4</td>\n",
       "      <td>150</td>\n",
       "      <td>4.9</td>\n",
       "      <td>Excellent</td>\n",
       "      <td>589</td>\n",
       "      <td>224</td>\n",
       "      <td>French, European</td>\n",
       "    </tr>\n",
       "    <tr>\n",
       "      <th>1</th>\n",
       "      <td>1</td>\n",
       "      <td>16558798</td>\n",
       "      <td>Quay</td>\n",
       "      <td>Circular Quay</td>\n",
       "      <td>Upper Level, Overseas Passenger Terminal 5 Hic...</td>\n",
       "      <td>Sydney</td>\n",
       "      <td>-33.858029</td>\n",
       "      <td>151.209970</td>\n",
       "      <td>4</td>\n",
       "      <td>500</td>\n",
       "      <td>4.9</td>\n",
       "      <td>Excellent</td>\n",
       "      <td>1366</td>\n",
       "      <td>454</td>\n",
       "      <td>Modern Australian</td>\n",
       "    </tr>\n",
       "    <tr>\n",
       "      <th>2</th>\n",
       "      <td>2</td>\n",
       "      <td>16559171</td>\n",
       "      <td>Tetsuya's</td>\n",
       "      <td>CBD</td>\n",
       "      <td>529 Kent Street, CBD, Sydney</td>\n",
       "      <td>Sydney</td>\n",
       "      <td>-33.875143</td>\n",
       "      <td>151.204932</td>\n",
       "      <td>4</td>\n",
       "      <td>440</td>\n",
       "      <td>4.9</td>\n",
       "      <td>Excellent</td>\n",
       "      <td>1235</td>\n",
       "      <td>329</td>\n",
       "      <td>Japanese</td>\n",
       "    </tr>\n",
       "    <tr>\n",
       "      <th>3</th>\n",
       "      <td>3</td>\n",
       "      <td>16569454</td>\n",
       "      <td>LuMi Bar &amp; Dining</td>\n",
       "      <td>Pyrmont</td>\n",
       "      <td>56 Pirrama Road, \\tPyrmont, Pyrmont, Sydney</td>\n",
       "      <td>Sydney</td>\n",
       "      <td>-33.867137</td>\n",
       "      <td>151.197517</td>\n",
       "      <td>4</td>\n",
       "      <td>190</td>\n",
       "      <td>4.9</td>\n",
       "      <td>Excellent</td>\n",
       "      <td>452</td>\n",
       "      <td>196</td>\n",
       "      <td>Italian, Japanese</td>\n",
       "    </tr>\n",
       "    <tr>\n",
       "      <th>4</th>\n",
       "      <td>4</td>\n",
       "      <td>15545439</td>\n",
       "      <td>Manpuku</td>\n",
       "      <td>Chatswood</td>\n",
       "      <td>226 Victoria Avenue, Chatswood, Sydney</td>\n",
       "      <td>Sydney</td>\n",
       "      <td>-33.794417</td>\n",
       "      <td>151.189542</td>\n",
       "      <td>2</td>\n",
       "      <td>40</td>\n",
       "      <td>4.9</td>\n",
       "      <td>Excellent</td>\n",
       "      <td>486</td>\n",
       "      <td>190</td>\n",
       "      <td>Japanese, Ramen</td>\n",
       "    </tr>\n",
       "  </tbody>\n",
       "</table>\n",
       "</div>"
      ],
      "text/plain": [
       "   Unnamed: 0  Restaurant_id               Name       Locality  \\\n",
       "0           0       15547004  Restaurant Hubert            CBD   \n",
       "1           1       16558798               Quay  Circular Quay   \n",
       "2           2       16559171          Tetsuya's            CBD   \n",
       "3           3       16569454  LuMi Bar & Dining        Pyrmont   \n",
       "4           4       15545439            Manpuku      Chatswood   \n",
       "\n",
       "                                             Address    City   Latitude  \\\n",
       "0                       15 Bligh Street, CBD, Sydney  Sydney -33.865348   \n",
       "1  Upper Level, Overseas Passenger Terminal 5 Hic...  Sydney -33.858029   \n",
       "2                       529 Kent Street, CBD, Sydney  Sydney -33.875143   \n",
       "3        56 Pirrama Road, \\tPyrmont, Pyrmont, Sydney  Sydney -33.867137   \n",
       "4             226 Victoria Avenue, Chatswood, Sydney  Sydney -33.794417   \n",
       "\n",
       "    Longitude  Price Range  Average Cost for two  User Rating Rating Text  \\\n",
       "0  151.210624            4                   150          4.9   Excellent   \n",
       "1  151.209970            4                   500          4.9   Excellent   \n",
       "2  151.204932            4                   440          4.9   Excellent   \n",
       "3  151.197517            4                   190          4.9   Excellent   \n",
       "4  151.189542            2                    40          4.9   Excellent   \n",
       "\n",
       "   Votes  all_reviews_count           Cuisines  \n",
       "0    589                224   French, European  \n",
       "1   1366                454  Modern Australian  \n",
       "2   1235                329           Japanese  \n",
       "3    452                196  Italian, Japanese  \n",
       "4    486                190    Japanese, Ramen  "
      ]
     },
     "execution_count": 33,
     "metadata": {},
     "output_type": "execute_result"
    }
   ],
   "source": [
    "df497.head()"
   ]
  },
  {
   "cell_type": "code",
   "execution_count": 35,
   "metadata": {},
   "outputs": [
    {
     "data": {
      "text/html": [
       "<div>\n",
       "<style scoped>\n",
       "    .dataframe tbody tr th:only-of-type {\n",
       "        vertical-align: middle;\n",
       "    }\n",
       "\n",
       "    .dataframe tbody tr th {\n",
       "        vertical-align: top;\n",
       "    }\n",
       "\n",
       "    .dataframe thead th {\n",
       "        text-align: right;\n",
       "    }\n",
       "</style>\n",
       "<table border=\"1\" class=\"dataframe\">\n",
       "  <thead>\n",
       "    <tr style=\"text-align: right;\">\n",
       "      <th></th>\n",
       "      <th></th>\n",
       "      <th>Price Range</th>\n",
       "    </tr>\n",
       "    <tr>\n",
       "      <th>City</th>\n",
       "      <th>Price Range</th>\n",
       "      <th></th>\n",
       "    </tr>\n",
       "  </thead>\n",
       "  <tbody>\n",
       "    <tr>\n",
       "      <th rowspan=\"3\" valign=\"top\">Adelaide</th>\n",
       "      <th>3</th>\n",
       "      <td>53</td>\n",
       "    </tr>\n",
       "    <tr>\n",
       "      <th>2</th>\n",
       "      <td>28</td>\n",
       "    </tr>\n",
       "    <tr>\n",
       "      <th>4</th>\n",
       "      <td>17</td>\n",
       "    </tr>\n",
       "    <tr>\n",
       "      <th rowspan=\"4\" valign=\"top\">Brisbane</th>\n",
       "      <th>2</th>\n",
       "      <td>39</td>\n",
       "    </tr>\n",
       "    <tr>\n",
       "      <th>3</th>\n",
       "      <td>36</td>\n",
       "    </tr>\n",
       "    <tr>\n",
       "      <th>4</th>\n",
       "      <td>22</td>\n",
       "    </tr>\n",
       "    <tr>\n",
       "      <th>1</th>\n",
       "      <td>3</td>\n",
       "    </tr>\n",
       "    <tr>\n",
       "      <th rowspan=\"4\" valign=\"top\">Melbourne</th>\n",
       "      <th>4</th>\n",
       "      <td>48</td>\n",
       "    </tr>\n",
       "    <tr>\n",
       "      <th>3</th>\n",
       "      <td>35</td>\n",
       "    </tr>\n",
       "    <tr>\n",
       "      <th>2</th>\n",
       "      <td>15</td>\n",
       "    </tr>\n",
       "    <tr>\n",
       "      <th>1</th>\n",
       "      <td>2</td>\n",
       "    </tr>\n",
       "    <tr>\n",
       "      <th rowspan=\"4\" valign=\"top\">Perth</th>\n",
       "      <th>3</th>\n",
       "      <td>38</td>\n",
       "    </tr>\n",
       "    <tr>\n",
       "      <th>2</th>\n",
       "      <td>34</td>\n",
       "    </tr>\n",
       "    <tr>\n",
       "      <th>4</th>\n",
       "      <td>26</td>\n",
       "    </tr>\n",
       "    <tr>\n",
       "      <th>1</th>\n",
       "      <td>1</td>\n",
       "    </tr>\n",
       "    <tr>\n",
       "      <th rowspan=\"4\" valign=\"top\">Sydney</th>\n",
       "      <th>4</th>\n",
       "      <td>38</td>\n",
       "    </tr>\n",
       "    <tr>\n",
       "      <th>3</th>\n",
       "      <td>32</td>\n",
       "    </tr>\n",
       "    <tr>\n",
       "      <th>2</th>\n",
       "      <td>25</td>\n",
       "    </tr>\n",
       "    <tr>\n",
       "      <th>1</th>\n",
       "      <td>5</td>\n",
       "    </tr>\n",
       "  </tbody>\n",
       "</table>\n",
       "</div>"
      ],
      "text/plain": [
       "                       Price Range\n",
       "City      Price Range             \n",
       "Adelaide  3                     53\n",
       "          2                     28\n",
       "          4                     17\n",
       "Brisbane  2                     39\n",
       "          3                     36\n",
       "          4                     22\n",
       "          1                      3\n",
       "Melbourne 4                     48\n",
       "          3                     35\n",
       "          2                     15\n",
       "          1                      2\n",
       "Perth     3                     38\n",
       "          2                     34\n",
       "          4                     26\n",
       "          1                      1\n",
       "Sydney    4                     38\n",
       "          3                     32\n",
       "          2                     25\n",
       "          1                      5"
      ]
     },
     "execution_count": 35,
     "metadata": {},
     "output_type": "execute_result"
    }
   ],
   "source": [
    "#Group df by City\n",
    "group_all_cities = df497.groupby(\"City\")\n",
    "#Calculation of the average cost and user-rating per city\n",
    "#Calculate the average cost for two per city\n",
    "price_range = pd.DataFrame(group_all_cities[\"Price Range\"].value_counts())\n",
    "\n",
    "price_range"
   ]
  },
  {
   "cell_type": "code",
   "execution_count": 37,
   "metadata": {},
   "outputs": [
    {
     "data": {
      "image/png": "[encoded data removed]",
      "text/plain": [
       "<Figure size 460.8x302.4 with 1 Axes>"
      ]
     },
     "metadata": {
      "needs_background": "light"
     },
     "output_type": "display_data"
    },
    {
     "data": {
      "text/plain": [
       "<Figure size 432x288 with 0 Axes>"
      ]
     },
     "metadata": {},
     "output_type": "display_data"
    }
   ],
   "source": [
    "price_range.plot(kind=\"bar\", alpha=0.6, figsize=(6.4,4.2), legend = None)\n",
    "# Set textual properties\n",
    "plt.title(\"Number of restaurants per price range per city\")\n",
    "plt.ylabel(\"Number of restaurants\")\n",
    "plt.xlim(-0.5,len(price_range)-0.5)\n",
    "plt.ylim(0,max(price_range[\"Price Range\"])+10)\n",
    "# Show plot\n",
    "plt.show()\n",
    "plt.tight_layout()"
   ]
  },
  {
   "cell_type": "code",
   "execution_count": null,
   "metadata": {},
   "outputs": [],
   "source": []
  }
 ],
 "metadata": {
  "kernelspec": {
   "display_name": "Python [conda env:PythonData]",
   "language": "python",
   "name": "conda-env-PythonData-py"
  },
  "language_info": {
   "codemirror_mode": {
    "name": "ipython",
    "version": 3
   },
   "file_extension": ".py",
   "mimetype": "text/x-python",
   "name": "python",
   "nbconvert_exporter": "python",
   "pygments_lexer": "ipython3",
   "version": "3.6.10"
  }
 },
 "nbformat": 4,
 "nbformat_minor": 4
}
