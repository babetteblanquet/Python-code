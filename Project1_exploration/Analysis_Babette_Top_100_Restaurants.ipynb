{
 "cells": [
  {
   "cell_type": "code",
   "execution_count": 2,
   "metadata": {},
   "outputs": [],
   "source": [
    "# Dependencies and Setup\n",
    "import matplotlib.pyplot as plt\n",
    "import pandas as pd\n",
    "import numpy as np\n",
    "import requests\n",
    "import gmaps\n",
    "import json\n",
    "from pprint import pprint\n",
    "from config import g_key\n",
    "\n",
    "# Resource File (CSV)\n",
    "df = pd.read_csv(\"output_data/Top_100.csv\")"
   ]
  },
  {
   "cell_type": "code",
   "execution_count": 3,
   "metadata": {},
   "outputs": [
    {
     "data": {
      "text/html": [
       "<div>\n",
       "<style scoped>\n",
       "    .dataframe tbody tr th:only-of-type {\n",
       "        vertical-align: middle;\n",
       "    }\n",
       "\n",
       "    .dataframe tbody tr th {\n",
       "        vertical-align: top;\n",
       "    }\n",
       "\n",
       "    .dataframe thead th {\n",
       "        text-align: right;\n",
       "    }\n",
       "</style>\n",
       "<table border=\"1\" class=\"dataframe\">\n",
       "  <thead>\n",
       "    <tr style=\"text-align: right;\">\n",
       "      <th></th>\n",
       "      <th>Unnamed: 0</th>\n",
       "      <th>Restaurant_id</th>\n",
       "      <th>Name</th>\n",
       "      <th>Locality</th>\n",
       "      <th>Address</th>\n",
       "      <th>City</th>\n",
       "      <th>Latitude</th>\n",
       "      <th>Longitude</th>\n",
       "      <th>Price Range</th>\n",
       "      <th>Average Cost for two</th>\n",
       "      <th>User Rating</th>\n",
       "      <th>Rating Text</th>\n",
       "      <th>Votes</th>\n",
       "      <th>all_reviews_count</th>\n",
       "      <th>Cuisines</th>\n",
       "    </tr>\n",
       "  </thead>\n",
       "  <tbody>\n",
       "    <tr>\n",
       "      <th>0</th>\n",
       "      <td>0</td>\n",
       "      <td>16572612</td>\n",
       "      <td>Vue de monde</td>\n",
       "      <td>CBD</td>\n",
       "      <td>Level 55, Rialto, 525 Collins Street, CBD, Mel...</td>\n",
       "      <td>Melbourne</td>\n",
       "      <td>-37.818954</td>\n",
       "      <td>144.957934</td>\n",
       "      <td>4</td>\n",
       "      <td>600</td>\n",
       "      <td>4.9</td>\n",
       "      <td>Excellent</td>\n",
       "      <td>3225</td>\n",
       "      <td>987</td>\n",
       "      <td>Australian, Contemporary</td>\n",
       "    </tr>\n",
       "    <tr>\n",
       "      <th>1</th>\n",
       "      <td>1</td>\n",
       "      <td>16585905</td>\n",
       "      <td>Tipo 00</td>\n",
       "      <td>CBD</td>\n",
       "      <td>361 Little Bourke Street, CBD, Melbourne</td>\n",
       "      <td>Melbourne</td>\n",
       "      <td>-37.813528</td>\n",
       "      <td>144.961973</td>\n",
       "      <td>4</td>\n",
       "      <td>150</td>\n",
       "      <td>4.9</td>\n",
       "      <td>Excellent</td>\n",
       "      <td>1927</td>\n",
       "      <td>717</td>\n",
       "      <td>Italian</td>\n",
       "    </tr>\n",
       "    <tr>\n",
       "      <th>2</th>\n",
       "      <td>2</td>\n",
       "      <td>17881527</td>\n",
       "      <td>Dexter</td>\n",
       "      <td>Preston</td>\n",
       "      <td>456 High Street, Preston, Melbourne</td>\n",
       "      <td>Melbourne</td>\n",
       "      <td>-37.736196</td>\n",
       "      <td>145.004456</td>\n",
       "      <td>4</td>\n",
       "      <td>110</td>\n",
       "      <td>4.9</td>\n",
       "      <td>Excellent</td>\n",
       "      <td>1475</td>\n",
       "      <td>685</td>\n",
       "      <td>American, BBQ</td>\n",
       "    </tr>\n",
       "    <tr>\n",
       "      <th>3</th>\n",
       "      <td>3</td>\n",
       "      <td>16558798</td>\n",
       "      <td>Quay</td>\n",
       "      <td>Circular Quay</td>\n",
       "      <td>Upper Level, Overseas Passenger Terminal 5 Hic...</td>\n",
       "      <td>Sydney</td>\n",
       "      <td>-33.858029</td>\n",
       "      <td>151.209970</td>\n",
       "      <td>4</td>\n",
       "      <td>500</td>\n",
       "      <td>4.9</td>\n",
       "      <td>Excellent</td>\n",
       "      <td>1366</td>\n",
       "      <td>454</td>\n",
       "      <td>Modern Australian</td>\n",
       "    </tr>\n",
       "    <tr>\n",
       "      <th>4</th>\n",
       "      <td>4</td>\n",
       "      <td>16559171</td>\n",
       "      <td>Tetsuya's</td>\n",
       "      <td>CBD</td>\n",
       "      <td>529 Kent Street, CBD, Sydney</td>\n",
       "      <td>Sydney</td>\n",
       "      <td>-33.875143</td>\n",
       "      <td>151.204932</td>\n",
       "      <td>4</td>\n",
       "      <td>440</td>\n",
       "      <td>4.9</td>\n",
       "      <td>Excellent</td>\n",
       "      <td>1235</td>\n",
       "      <td>329</td>\n",
       "      <td>Japanese</td>\n",
       "    </tr>\n",
       "  </tbody>\n",
       "</table>\n",
       "</div>"
      ],
      "text/plain": [
       "   Unnamed: 0  Restaurant_id          Name       Locality  \\\n",
       "0           0       16572612  Vue de monde            CBD   \n",
       "1           1       16585905       Tipo 00            CBD   \n",
       "2           2       17881527        Dexter        Preston   \n",
       "3           3       16558798          Quay  Circular Quay   \n",
       "4           4       16559171     Tetsuya's            CBD   \n",
       "\n",
       "                                             Address       City   Latitude  \\\n",
       "0  Level 55, Rialto, 525 Collins Street, CBD, Mel...  Melbourne -37.818954   \n",
       "1           361 Little Bourke Street, CBD, Melbourne  Melbourne -37.813528   \n",
       "2                456 High Street, Preston, Melbourne  Melbourne -37.736196   \n",
       "3  Upper Level, Overseas Passenger Terminal 5 Hic...     Sydney -33.858029   \n",
       "4                       529 Kent Street, CBD, Sydney     Sydney -33.875143   \n",
       "\n",
       "    Longitude  Price Range  Average Cost for two  User Rating Rating Text  \\\n",
       "0  144.957934            4                   600          4.9   Excellent   \n",
       "1  144.961973            4                   150          4.9   Excellent   \n",
       "2  145.004456            4                   110          4.9   Excellent   \n",
       "3  151.209970            4                   500          4.9   Excellent   \n",
       "4  151.204932            4                   440          4.9   Excellent   \n",
       "\n",
       "   Votes  all_reviews_count                  Cuisines  \n",
       "0   3225                987  Australian, Contemporary  \n",
       "1   1927                717                   Italian  \n",
       "2   1475                685             American, BBQ  \n",
       "3   1366                454         Modern Australian  \n",
       "4   1235                329                  Japanese  "
      ]
     },
     "execution_count": 3,
     "metadata": {},
     "output_type": "execute_result"
    }
   ],
   "source": [
    "df.head()"
   ]
  },
  {
   "cell_type": "code",
   "execution_count": 4,
   "metadata": {},
   "outputs": [
    {
     "data": {
      "text/html": [
       "<div>\n",
       "<style scoped>\n",
       "    .dataframe tbody tr th:only-of-type {\n",
       "        vertical-align: middle;\n",
       "    }\n",
       "\n",
       "    .dataframe tbody tr th {\n",
       "        vertical-align: top;\n",
       "    }\n",
       "\n",
       "    .dataframe thead th {\n",
       "        text-align: right;\n",
       "    }\n",
       "</style>\n",
       "<table border=\"1\" class=\"dataframe\">\n",
       "  <thead>\n",
       "    <tr style=\"text-align: right;\">\n",
       "      <th></th>\n",
       "      <th>Restaurant_id</th>\n",
       "    </tr>\n",
       "    <tr>\n",
       "      <th>City</th>\n",
       "      <th></th>\n",
       "    </tr>\n",
       "  </thead>\n",
       "  <tbody>\n",
       "    <tr>\n",
       "      <th>Adelaide</th>\n",
       "      <td>8</td>\n",
       "    </tr>\n",
       "    <tr>\n",
       "      <th>Brisbane</th>\n",
       "      <td>10</td>\n",
       "    </tr>\n",
       "    <tr>\n",
       "      <th>Melbourne</th>\n",
       "      <td>44</td>\n",
       "    </tr>\n",
       "    <tr>\n",
       "      <th>Perth</th>\n",
       "      <td>12</td>\n",
       "    </tr>\n",
       "    <tr>\n",
       "      <th>Sydney</th>\n",
       "      <td>26</td>\n",
       "    </tr>\n",
       "  </tbody>\n",
       "</table>\n",
       "</div>"
      ],
      "text/plain": [
       "           Restaurant_id\n",
       "City                    \n",
       "Adelaide               8\n",
       "Brisbane              10\n",
       "Melbourne             44\n",
       "Perth                 12\n",
       "Sydney                26"
      ]
     },
     "execution_count": 4,
     "metadata": {},
     "output_type": "execute_result"
    }
   ],
   "source": [
    "#Where are located the top 100 restaurants (user rating - number of votes)\n",
    "\n",
    "#Group df (5 cities) by City\n",
    "group_city = df.groupby(\"City\")\n",
    "#Check the number of restaurants per city\n",
    "city_df = pd.DataFrame(group_city[\"Restaurant_id\"].count())\n",
    "\n",
    "city_df"
   ]
  },
  {
   "cell_type": "code",
   "execution_count": 9,
   "metadata": {},
   "outputs": [
    {
     "data": {
      "image/png": "[encoded data removed]",
      "text/plain": [
       "<Figure size 460.8x396 with 1 Axes>"
      ]
     },
     "metadata": {
      "needs_background": "light"
     },
     "output_type": "display_data"
    },
    {
     "data": {
      "text/plain": [
       "<Figure size 432x288 with 0 Axes>"
      ]
     },
     "metadata": {},
     "output_type": "display_data"
    }
   ],
   "source": [
    "#Plotting the top 100 restaurants with a bar graph\n",
    "#Plotting the bar chart:\n",
    "city_df.plot(kind=\"bar\", facecolor=\"red\", alpha=0.6,rot=0, figsize=(6.4,5.5), legend = None)\n",
    "# Set textual properties\n",
    "plt.title(\"Top 100 restaurants per city\")\n",
    "plt.ylabel(\"Number of restaurants\")\n",
    "plt.xlim(-0.5,len(city_df)-0.5)\n",
    "plt.ylim(0,45)\n",
    "#Save image\n",
    "plt.savefig('images/Number of restaurants per city among the Top 100 restaurants.png')\n",
    "# Show plot\n",
    "plt.show()\n",
    "plt.tight_layout()"
   ]
  },
  {
   "cell_type": "code",
   "execution_count": 11,
   "metadata": {},
   "outputs": [
    {
     "data": {
      "text/html": [
       "<div>\n",
       "<style scoped>\n",
       "    .dataframe tbody tr th:only-of-type {\n",
       "        vertical-align: middle;\n",
       "    }\n",
       "\n",
       "    .dataframe tbody tr th {\n",
       "        vertical-align: top;\n",
       "    }\n",
       "\n",
       "    .dataframe thead th {\n",
       "        text-align: right;\n",
       "    }\n",
       "</style>\n",
       "<table border=\"1\" class=\"dataframe\">\n",
       "  <thead>\n",
       "    <tr style=\"text-align: right;\">\n",
       "      <th></th>\n",
       "      <th>Average Cost for two</th>\n",
       "    </tr>\n",
       "    <tr>\n",
       "      <th>City</th>\n",
       "      <th></th>\n",
       "    </tr>\n",
       "  </thead>\n",
       "  <tbody>\n",
       "    <tr>\n",
       "      <th>Adelaide</th>\n",
       "      <td>108.125000</td>\n",
       "    </tr>\n",
       "    <tr>\n",
       "      <th>Brisbane</th>\n",
       "      <td>94.000000</td>\n",
       "    </tr>\n",
       "    <tr>\n",
       "      <th>Melbourne</th>\n",
       "      <td>140.909091</td>\n",
       "    </tr>\n",
       "    <tr>\n",
       "      <th>Perth</th>\n",
       "      <td>122.500000</td>\n",
       "    </tr>\n",
       "    <tr>\n",
       "      <th>Sydney</th>\n",
       "      <td>129.423077</td>\n",
       "    </tr>\n",
       "  </tbody>\n",
       "</table>\n",
       "</div>"
      ],
      "text/plain": [
       "           Average Cost for two\n",
       "City                           \n",
       "Adelaide             108.125000\n",
       "Brisbane              94.000000\n",
       "Melbourne            140.909091\n",
       "Perth                122.500000\n",
       "Sydney               129.423077"
      ]
     },
     "execution_count": 11,
     "metadata": {},
     "output_type": "execute_result"
    }
   ],
   "source": [
    "#Calculation of the average cost and user-rating per city\n",
    "#Group df (5 cities) by City\n",
    "group_city = df.groupby(\"City\")\n",
    "#Calculate the average cost for two per city\n",
    "average_city = pd.DataFrame(group_city[\"Average Cost for two\"].mean())\n",
    "\n",
    "average_city"
   ]
  },
  {
   "cell_type": "code",
   "execution_count": 20,
   "metadata": {},
   "outputs": [
    {
     "data": {
      "text/plain": [
       "128.4"
      ]
     },
     "execution_count": 20,
     "metadata": {},
     "output_type": "execute_result"
    }
   ],
   "source": [
    "average = df[\"Average Cost for two\"].mean()\n",
    "average"
   ]
  },
  {
   "cell_type": "code",
   "execution_count": 16,
   "metadata": {},
   "outputs": [
    {
     "data": {
      "image/png": "[encoded data removed]",
      "text/plain": [
       "<Figure size 460.8x396 with 1 Axes>"
      ]
     },
     "metadata": {
      "needs_background": "light"
     },
     "output_type": "display_data"
    },
    {
     "data": {
      "text/plain": [
       "<Figure size 432x288 with 0 Axes>"
      ]
     },
     "metadata": {},
     "output_type": "display_data"
    }
   ],
   "source": [
    "#Plotting the average cost for two per city\n",
    "average_city.plot(kind=\"bar\", facecolor=\"blue\", alpha=0.6, rot=0, figsize=(6.4,5.5), legend = None)\n",
    "# Set textual properties\n",
    "plt.title(\"Average cost for two per city\")\n",
    "plt.ylabel(\"Average cost for two\")\n",
    "plt.xlim(-0.5,len(average_city)-0.5)\n",
    "plt.ylim(0,max(average_city[\"Average Cost for two\"])+10)\n",
    "#Save image\n",
    "plt.savefig('images/Average cost for two per city.png')\n",
    "# Show plot\n",
    "plt.show()\n",
    "plt.tight_layout()"
   ]
  },
  {
   "cell_type": "code",
   "execution_count": 18,
   "metadata": {},
   "outputs": [
    {
     "data": {
      "text/html": [
       "<div>\n",
       "<style scoped>\n",
       "    .dataframe tbody tr th:only-of-type {\n",
       "        vertical-align: middle;\n",
       "    }\n",
       "\n",
       "    .dataframe tbody tr th {\n",
       "        vertical-align: top;\n",
       "    }\n",
       "\n",
       "    .dataframe thead th {\n",
       "        text-align: right;\n",
       "    }\n",
       "</style>\n",
       "<table border=\"1\" class=\"dataframe\">\n",
       "  <thead>\n",
       "    <tr style=\"text-align: right;\">\n",
       "      <th></th>\n",
       "      <th>Median</th>\n",
       "    </tr>\n",
       "    <tr>\n",
       "      <th>City</th>\n",
       "      <th></th>\n",
       "    </tr>\n",
       "  </thead>\n",
       "  <tbody>\n",
       "    <tr>\n",
       "      <th>Adelaide</th>\n",
       "      <td>80</td>\n",
       "    </tr>\n",
       "    <tr>\n",
       "      <th>Brisbane</th>\n",
       "      <td>70</td>\n",
       "    </tr>\n",
       "    <tr>\n",
       "      <th>Melbourne</th>\n",
       "      <td>105</td>\n",
       "    </tr>\n",
       "    <tr>\n",
       "      <th>Perth</th>\n",
       "      <td>75</td>\n",
       "    </tr>\n",
       "    <tr>\n",
       "      <th>Sydney</th>\n",
       "      <td>90</td>\n",
       "    </tr>\n",
       "  </tbody>\n",
       "</table>\n",
       "</div>"
      ],
      "text/plain": [
       "           Median\n",
       "City             \n",
       "Adelaide       80\n",
       "Brisbane       70\n",
       "Melbourne     105\n",
       "Perth          75\n",
       "Sydney         90"
      ]
     },
     "execution_count": 18,
     "metadata": {},
     "output_type": "execute_result"
    }
   ],
   "source": [
    "#Calculate the median of the average cost for two per city\n",
    "median_city = pd.DataFrame(group_city[\"Average Cost for two\"].median())\n",
    "median_city.columns=[\"Median\"]\n",
    "median_city"
   ]
  },
  {
   "cell_type": "code",
   "execution_count": 59,
   "metadata": {},
   "outputs": [
    {
     "data": {
      "image/png": "[encoded data removed]",
      "text/plain": [
       "<Figure size 432x288 with 1 Axes>"
      ]
     },
     "metadata": {
      "needs_background": "light"
     },
     "output_type": "display_data"
    }
   ],
   "source": [
    "# Generate a box plot of the average cost for two across the five cities\n",
    "Rest_Melbourne = df.loc[df[\"City\"]==\"Melbourne\",\"Average Cost for two\"]\n",
    "Rest_Sydney = df.loc[df[\"City\"]==\"Sydney\",\"Average Cost for two\"]\n",
    "Rest_Adelaide = df.loc[df[\"City\"]==\"Adelaide\",\"Average Cost for two\"]\n",
    "Rest_Brisbane = df.loc[df[\"City\"]==\"Brisbane\",\"Average Cost for two\"]\n",
    "Rest_Perth = df.loc[df[\"City\"]==\"Perth\",\"Average Cost for two\"]\n",
    "\n",
    "data = [Rest_Melbourne,Rest_Sydney, Rest_Adelaide,Rest_Brisbane,Rest_Perth]\n",
    "Cities = [\"Melbourne\", \"Sydney\", \"Adelaide\", \"Brisbane\", \"Perth\"]\n",
    "red_square = dict(markerfacecolor='r', marker='s')\n",
    "\n",
    "fig1, ax1 = plt.subplots()\n",
    "ax1.set_title('Average Cost for two per city')\n",
    "ax1.set_xticklabels(Cities, rotation=45, fontsize=10)\n",
    "ax1.set_ylabel('Average Cost for two')\n",
    "ax1.boxplot(data, flierprops=red_square)\n",
    "plt.show()"
   ]
  },
  {
   "cell_type": "code",
   "execution_count": null,
   "metadata": {},
   "outputs": [],
   "source": [
    "\n",
    "\n"
   ]
  },
  {
   "cell_type": "code",
   "execution_count": 49,
   "metadata": {},
   "outputs": [
    {
     "data": {
      "text/html": [
       "<div>\n",
       "<style scoped>\n",
       "    .dataframe tbody tr th:only-of-type {\n",
       "        vertical-align: middle;\n",
       "    }\n",
       "\n",
       "    .dataframe tbody tr th {\n",
       "        vertical-align: top;\n",
       "    }\n",
       "\n",
       "    .dataframe thead th {\n",
       "        text-align: right;\n",
       "    }\n",
       "</style>\n",
       "<table border=\"1\" class=\"dataframe\">\n",
       "  <thead>\n",
       "    <tr style=\"text-align: right;\">\n",
       "      <th></th>\n",
       "      <th>User Rating</th>\n",
       "    </tr>\n",
       "    <tr>\n",
       "      <th>City</th>\n",
       "      <th></th>\n",
       "    </tr>\n",
       "  </thead>\n",
       "  <tbody>\n",
       "    <tr>\n",
       "      <th>Adelaide</th>\n",
       "      <td>4.775000</td>\n",
       "    </tr>\n",
       "    <tr>\n",
       "      <th>Brisbane</th>\n",
       "      <td>4.760000</td>\n",
       "    </tr>\n",
       "    <tr>\n",
       "      <th>Melbourne</th>\n",
       "      <td>4.754545</td>\n",
       "    </tr>\n",
       "    <tr>\n",
       "      <th>Perth</th>\n",
       "      <td>4.775000</td>\n",
       "    </tr>\n",
       "    <tr>\n",
       "      <th>Sydney</th>\n",
       "      <td>4.784615</td>\n",
       "    </tr>\n",
       "  </tbody>\n",
       "</table>\n",
       "</div>"
      ],
      "text/plain": [
       "           User Rating\n",
       "City                  \n",
       "Adelaide      4.775000\n",
       "Brisbane      4.760000\n",
       "Melbourne     4.754545\n",
       "Perth         4.775000\n",
       "Sydney        4.784615"
      ]
     },
     "execution_count": 49,
     "metadata": {},
     "output_type": "execute_result"
    }
   ],
   "source": [
    "#Calculate the average user rating per city\n",
    "average_rating = pd.DataFrame(group_city[\"User Rating\"].mean())\n",
    "#Insert a column with average rating\n",
    "average_rating"
   ]
  },
  {
   "cell_type": "code",
   "execution_count": 51,
   "metadata": {},
   "outputs": [
    {
     "data": {
      "image/png": "[encoded data removed]",
      "text/plain": [
       "<Figure size 460.8x302.4 with 1 Axes>"
      ]
     },
     "metadata": {
      "needs_background": "light"
     },
     "output_type": "display_data"
    },
    {
     "data": {
      "text/plain": [
       "<Figure size 432x288 with 0 Axes>"
      ]
     },
     "metadata": {},
     "output_type": "display_data"
    }
   ],
   "source": [
    "#Plotting the average rating per city\n",
    "average_rating.plot(kind=\"bar\", facecolor=\"red\", alpha=0.6, figsize=(6.4,4.2), legend = None)\n",
    "# Set textual properties\n",
    "plt.title(\"Average user rating per city\")\n",
    "plt.ylabel(\"Average user rating\")\n",
    "plt.xlim(-0.5,len(average_rating)-0.5)\n",
    "plt.ylim(0,max(average_rating[\"User Rating\"])+0.5)\n",
    "# Show plot\n",
    "plt.show()\n",
    "plt.tight_layout()"
   ]
  },
  {
   "cell_type": "code",
   "execution_count": 52,
   "metadata": {},
   "outputs": [
    {
     "data": {
      "image/png": "[encoded data removed]",
      "text/plain": [
       "<Figure size 432x288 with 1 Axes>"
      ]
     },
     "metadata": {
      "needs_background": "light"
     },
     "output_type": "display_data"
    }
   ],
   "source": [
    "#Scatter plot of the average cost two and average rating\n",
    "#Scatter plot Average cost for two vs User Rating\n",
    "y = df[\"Average Cost for two\"]\n",
    "x = df[\"City\"] \n",
    "\n",
    "plt.scatter(x,y, color='blue', edgecolor = 'black', alpha=0.5)\n",
    "plt.xlabel('Average Cost for two')\n",
    "plt.ylabel('User Rating')\n",
    "plt.title('User Rating vs Average Cost for two')\n",
    "#plt.savefig('images/User Rating vs. Average Cost.png')\n",
    "plt.show()"
   ]
  },
  {
   "cell_type": "code",
   "execution_count": 53,
   "metadata": {},
   "outputs": [],
   "source": [
    "# Configure gmaps with API key\n",
    "gmaps.configure(api_key=g_key)\n",
    "\n",
    "#Creating a restaurant symbol map\n",
    "\n",
    "# Using the template add the restaurant marks to the heatmap\n",
    "info_box_template = \"\"\"\n",
    "<dl>\n",
    "<dt>Name</dt><dd>{Name}</dd>\n",
    "<dt>Cuisine</dt><dd>{Cuisines}</dd>\n",
    "<dt>User rating</dt><dd>{Rating Text}</dd>\n",
    "</dl>\n",
    "\"\"\"\n",
    "# Store the DataFrame Row\n",
    "# NOTE: be sure to update with your DataFrame name\n",
    "restaurant_info = [info_box_template.format(**row) for index, row in df.iterrows()]\n",
    "locations = df[[\"Latitude\", \"Longitude\"]]"
   ]
  },
  {
   "cell_type": "code",
   "execution_count": 54,
   "metadata": {},
   "outputs": [
    {
     "data": {
      "application/vnd.jupyter.widget-view+json": {
       "model_id": "7ece202026144a6e8ffc6ffbe11091f1",
       "version_major": 2,
       "version_minor": 0
      },
      "text/plain": [
       "Figure(layout=FigureLayout(height='420px'))"
      ]
     },
     "metadata": {},
     "output_type": "display_data"
    }
   ],
   "source": [
    "# Add marker layer ontop of heat map\n",
    "\n",
    "# Create hotel layer\n",
    "restaurant_layer = gmaps.symbol_layer(\n",
    "    locations, fill_color='rgba(0, 150, 0, 0.4)',\n",
    "    stroke_color='rgba(0, 0, 150, 0.4)', scale=5,\n",
    "    info_box_content=restaurant_info\n",
    ")\n",
    "fig = gmaps.figure()\n",
    "fig.add_layer(restaurant_layer)\n",
    "\n",
    "# Display figure\n",
    "fig"
   ]
  },
  {
   "cell_type": "code",
   "execution_count": null,
   "metadata": {},
   "outputs": [],
   "source": []
  }
 ],
 "metadata": {
  "kernelspec": {
   "display_name": "Python [conda env:PythonData]",
   "language": "python",
   "name": "conda-env-PythonData-py"
  },
  "language_info": {
   "codemirror_mode": {
    "name": "ipython",
    "version": 3
   },
   "file_extension": ".py",
   "mimetype": "text/x-python",
   "name": "python",
   "nbconvert_exporter": "python",
   "pygments_lexer": "ipython3",
   "version": "3.6.10"
  }
 },
 "nbformat": 4,
 "nbformat_minor": 4
}
