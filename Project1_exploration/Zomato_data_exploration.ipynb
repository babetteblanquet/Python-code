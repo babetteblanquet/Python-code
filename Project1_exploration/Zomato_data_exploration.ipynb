{
 "cells": [
  {
   "cell_type": "code",
   "execution_count": 17,
   "metadata": {},
   "outputs": [],
   "source": [
    "# Dependencies and Setup\n",
    "import matplotlib.pyplot as plt\n",
    "import pandas as pd\n",
    "import numpy as np\n",
    "import requests\n",
    "import gmaps\n",
    "import json\n",
    "from pprint import pprint\n",
    "\n",
    "# Zomato API Key\n",
    "from config import z_key"
   ]
  },
  {
   "cell_type": "code",
   "execution_count": 33,
   "metadata": {},
   "outputs": [],
   "source": [
    "#Melbourne ID = 259\n",
    "#Lat: 37.8136\n",
    "#Lon: 144.9631\n",
    "\n",
    "#Parameters\n",
    "#user-key = z_key\n",
    "entity_id=259\n",
    "entity_type=\"city\"\n",
    "start=0\n",
    "count=10\n",
    "lat=37.8136\n",
    "lon=144.9631\n",
    "radius=10000\n",
    "sort=\"rating\"\n",
    "order=\"desc\"\n",
    "\n",
    "params = {\n",
    "    \"entity_id\":entity_id,\n",
    "    \"entity_type\": entity_type,\n",
    "    \"start\": start,\n",
    "    \"count\": count,\n",
    "    \"lat\":lat,\n",
    "    \"lon\": lon,\n",
    "    \"radius\": radius,\n",
    "    \"sort\": sort,\n",
    "    \"order\": order\n",
    "}\n",
    "#Headers\n",
    "headers : {\"user-key\" : z_key}\n",
    "\n",
    "#Search url\n",
    "base_url = \"https://developers.zomato.com/api/v2.1/search?\"\n",
    "\n",
    "# Run request\n",
    "response = requests.get(base_url, params).json()"
   ]
  },
  {
   "cell_type": "code",
   "execution_count": 34,
   "metadata": {},
   "outputs": [
    {
     "data": {
      "text/plain": [
       "{'code': 403, 'status': 'Forbidden', 'message': 'Invalid API Key'}"
      ]
     },
     "execution_count": 34,
     "metadata": {},
     "output_type": "execute_result"
    }
   ],
   "source": [
    "response"
   ]
  },
  {
   "cell_type": "code",
   "execution_count": null,
   "metadata": {},
   "outputs": [],
   "source": []
  }
 ],
 "metadata": {
  "kernelspec": {
   "display_name": "Python 3",
   "language": "python",
   "name": "python3"
  },
  "language_info": {
   "codemirror_mode": {
    "name": "ipython",
    "version": 3
   },
   "file_extension": ".py",
   "mimetype": "text/x-python",
   "name": "python",
   "nbconvert_exporter": "python",
   "pygments_lexer": "ipython3",
   "version": "3.7.6"
  }
 },
 "nbformat": 4,
 "nbformat_minor": 4
}
