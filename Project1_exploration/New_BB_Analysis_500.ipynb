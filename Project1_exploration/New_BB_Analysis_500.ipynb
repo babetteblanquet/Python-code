{
 "cells": [
  {
   "cell_type": "code",
   "execution_count": 1,
   "metadata": {},
   "outputs": [
    {
     "data": {
      "text/html": [
       "<div>\n",
       "<style scoped>\n",
       "    .dataframe tbody tr th:only-of-type {\n",
       "        vertical-align: middle;\n",
       "    }\n",
       "\n",
       "    .dataframe tbody tr th {\n",
       "        vertical-align: top;\n",
       "    }\n",
       "\n",
       "    .dataframe thead th {\n",
       "        text-align: right;\n",
       "    }\n",
       "</style>\n",
       "<table border=\"1\" class=\"dataframe\">\n",
       "  <thead>\n",
       "    <tr style=\"text-align: right;\">\n",
       "      <th></th>\n",
       "      <th>Unnamed: 0</th>\n",
       "      <th>Restaurant_id</th>\n",
       "      <th>Name</th>\n",
       "      <th>Locality</th>\n",
       "      <th>Address</th>\n",
       "      <th>City</th>\n",
       "      <th>Latitude</th>\n",
       "      <th>Longitude</th>\n",
       "      <th>Price Range</th>\n",
       "      <th>Average Cost for two</th>\n",
       "      <th>User Rating</th>\n",
       "      <th>Rating Text</th>\n",
       "      <th>Votes</th>\n",
       "      <th>all_reviews_count</th>\n",
       "      <th>Cuisines</th>\n",
       "    </tr>\n",
       "  </thead>\n",
       "  <tbody>\n",
       "    <tr>\n",
       "      <th>0</th>\n",
       "      <td>0</td>\n",
       "      <td>15547004</td>\n",
       "      <td>Restaurant Hubert</td>\n",
       "      <td>CBD</td>\n",
       "      <td>15 Bligh Street, CBD, Sydney</td>\n",
       "      <td>Sydney</td>\n",
       "      <td>-33.865348</td>\n",
       "      <td>151.210624</td>\n",
       "      <td>4</td>\n",
       "      <td>150</td>\n",
       "      <td>4.9</td>\n",
       "      <td>Excellent</td>\n",
       "      <td>589</td>\n",
       "      <td>224</td>\n",
       "      <td>French, European</td>\n",
       "    </tr>\n",
       "    <tr>\n",
       "      <th>1</th>\n",
       "      <td>1</td>\n",
       "      <td>16558798</td>\n",
       "      <td>Quay</td>\n",
       "      <td>Circular Quay</td>\n",
       "      <td>Upper Level, Overseas Passenger Terminal 5 Hic...</td>\n",
       "      <td>Sydney</td>\n",
       "      <td>-33.858029</td>\n",
       "      <td>151.209970</td>\n",
       "      <td>4</td>\n",
       "      <td>500</td>\n",
       "      <td>4.9</td>\n",
       "      <td>Excellent</td>\n",
       "      <td>1366</td>\n",
       "      <td>454</td>\n",
       "      <td>Modern Australian</td>\n",
       "    </tr>\n",
       "    <tr>\n",
       "      <th>2</th>\n",
       "      <td>2</td>\n",
       "      <td>16559171</td>\n",
       "      <td>Tetsuya's</td>\n",
       "      <td>CBD</td>\n",
       "      <td>529 Kent Street, CBD, Sydney</td>\n",
       "      <td>Sydney</td>\n",
       "      <td>-33.875143</td>\n",
       "      <td>151.204932</td>\n",
       "      <td>4</td>\n",
       "      <td>440</td>\n",
       "      <td>4.9</td>\n",
       "      <td>Excellent</td>\n",
       "      <td>1235</td>\n",
       "      <td>329</td>\n",
       "      <td>Japanese</td>\n",
       "    </tr>\n",
       "    <tr>\n",
       "      <th>3</th>\n",
       "      <td>3</td>\n",
       "      <td>16569454</td>\n",
       "      <td>LuMi Bar &amp; Dining</td>\n",
       "      <td>Pyrmont</td>\n",
       "      <td>56 Pirrama Road, \\tPyrmont, Pyrmont, Sydney</td>\n",
       "      <td>Sydney</td>\n",
       "      <td>-33.867137</td>\n",
       "      <td>151.197517</td>\n",
       "      <td>4</td>\n",
       "      <td>190</td>\n",
       "      <td>4.9</td>\n",
       "      <td>Excellent</td>\n",
       "      <td>452</td>\n",
       "      <td>196</td>\n",
       "      <td>Italian, Japanese</td>\n",
       "    </tr>\n",
       "    <tr>\n",
       "      <th>4</th>\n",
       "      <td>4</td>\n",
       "      <td>15545439</td>\n",
       "      <td>Manpuku</td>\n",
       "      <td>Chatswood</td>\n",
       "      <td>226 Victoria Avenue, Chatswood, Sydney</td>\n",
       "      <td>Sydney</td>\n",
       "      <td>-33.794417</td>\n",
       "      <td>151.189542</td>\n",
       "      <td>2</td>\n",
       "      <td>40</td>\n",
       "      <td>4.9</td>\n",
       "      <td>Excellent</td>\n",
       "      <td>486</td>\n",
       "      <td>190</td>\n",
       "      <td>Japanese, Ramen</td>\n",
       "    </tr>\n",
       "  </tbody>\n",
       "</table>\n",
       "</div>"
      ],
      "text/plain": [
       "   Unnamed: 0  Restaurant_id               Name       Locality  \\\n",
       "0           0       15547004  Restaurant Hubert            CBD   \n",
       "1           1       16558798               Quay  Circular Quay   \n",
       "2           2       16559171          Tetsuya's            CBD   \n",
       "3           3       16569454  LuMi Bar & Dining        Pyrmont   \n",
       "4           4       15545439            Manpuku      Chatswood   \n",
       "\n",
       "                                             Address    City   Latitude  \\\n",
       "0                       15 Bligh Street, CBD, Sydney  Sydney -33.865348   \n",
       "1  Upper Level, Overseas Passenger Terminal 5 Hic...  Sydney -33.858029   \n",
       "2                       529 Kent Street, CBD, Sydney  Sydney -33.875143   \n",
       "3        56 Pirrama Road, \\tPyrmont, Pyrmont, Sydney  Sydney -33.867137   \n",
       "4             226 Victoria Avenue, Chatswood, Sydney  Sydney -33.794417   \n",
       "\n",
       "    Longitude  Price Range  Average Cost for two  User Rating Rating Text  \\\n",
       "0  151.210624            4                   150          4.9   Excellent   \n",
       "1  151.209970            4                   500          4.9   Excellent   \n",
       "2  151.204932            4                   440          4.9   Excellent   \n",
       "3  151.197517            4                   190          4.9   Excellent   \n",
       "4  151.189542            2                    40          4.9   Excellent   \n",
       "\n",
       "   Votes  all_reviews_count           Cuisines  \n",
       "0    589                224   French, European  \n",
       "1   1366                454  Modern Australian  \n",
       "2   1235                329           Japanese  \n",
       "3    452                196  Italian, Japanese  \n",
       "4    486                190    Japanese, Ramen  "
      ]
     },
     "execution_count": 1,
     "metadata": {},
     "output_type": "execute_result"
    }
   ],
   "source": [
    "# Dependencies and Setup\n",
    "import matplotlib.pyplot as plt\n",
    "import pandas as pd\n",
    "import numpy as np\n",
    "import requests\n",
    "import gmaps\n",
    "import json\n",
    "from pprint import pprint\n",
    "import scipy.stats as st\n",
    "from scipy.stats import linregress\n",
    "\n",
    "\n",
    "# Resource File (CSV)\n",
    "df497 = pd.read_csv(\"output_data/Top_497.csv\")\n",
    "df497.head()"
   ]
  },
  {
   "cell_type": "markdown",
   "metadata": {},
   "source": [
    "# Summary Statistics for user rating and average cost for two"
   ]
  },
  {
   "cell_type": "code",
   "execution_count": 15,
   "metadata": {},
   "outputs": [
    {
     "data": {
      "text/html": [
       "<div>\n",
       "<style scoped>\n",
       "    .dataframe tbody tr th:only-of-type {\n",
       "        vertical-align: middle;\n",
       "    }\n",
       "\n",
       "    .dataframe tbody tr th {\n",
       "        vertical-align: top;\n",
       "    }\n",
       "\n",
       "    .dataframe thead th {\n",
       "        text-align: right;\n",
       "    }\n",
       "</style>\n",
       "<table border=\"1\" class=\"dataframe\">\n",
       "  <thead>\n",
       "    <tr style=\"text-align: right;\">\n",
       "      <th></th>\n",
       "      <th>City</th>\n",
       "      <th>Restaurant_id</th>\n",
       "      <th>User rating Average</th>\n",
       "      <th>User rating Median</th>\n",
       "      <th>User rating Variance</th>\n",
       "      <th>User rating Std Deviation</th>\n",
       "      <th>Average Cost</th>\n",
       "      <th>Median Cost</th>\n",
       "      <th>Variance Cost</th>\n",
       "      <th>Std Deviation Cost</th>\n",
       "    </tr>\n",
       "  </thead>\n",
       "  <tbody>\n",
       "    <tr>\n",
       "      <th>0</th>\n",
       "      <td>Adelaide</td>\n",
       "      <td>98</td>\n",
       "      <td>4.394898</td>\n",
       "      <td>4.35</td>\n",
       "      <td>0.027293</td>\n",
       "      <td>0.165207</td>\n",
       "      <td>79.030612</td>\n",
       "      <td>75</td>\n",
       "      <td>2268.401115</td>\n",
       "      <td>47.627735</td>\n",
       "    </tr>\n",
       "    <tr>\n",
       "      <th>1</th>\n",
       "      <td>Brisbane</td>\n",
       "      <td>100</td>\n",
       "      <td>4.511000</td>\n",
       "      <td>4.50</td>\n",
       "      <td>0.013514</td>\n",
       "      <td>0.116250</td>\n",
       "      <td>72.730000</td>\n",
       "      <td>60</td>\n",
       "      <td>1799.330404</td>\n",
       "      <td>42.418515</td>\n",
       "    </tr>\n",
       "    <tr>\n",
       "      <th>2</th>\n",
       "      <td>Melbourne</td>\n",
       "      <td>100</td>\n",
       "      <td>4.668000</td>\n",
       "      <td>4.60</td>\n",
       "      <td>0.008461</td>\n",
       "      <td>0.091982</td>\n",
       "      <td>120.250000</td>\n",
       "      <td>90</td>\n",
       "      <td>10491.098485</td>\n",
       "      <td>102.426064</td>\n",
       "    </tr>\n",
       "    <tr>\n",
       "      <th>3</th>\n",
       "      <td>Perth</td>\n",
       "      <td>99</td>\n",
       "      <td>4.465657</td>\n",
       "      <td>4.40</td>\n",
       "      <td>0.021870</td>\n",
       "      <td>0.147884</td>\n",
       "      <td>82.090909</td>\n",
       "      <td>65</td>\n",
       "      <td>3145.634508</td>\n",
       "      <td>56.085956</td>\n",
       "    </tr>\n",
       "    <tr>\n",
       "      <th>4</th>\n",
       "      <td>Sydney</td>\n",
       "      <td>100</td>\n",
       "      <td>4.626000</td>\n",
       "      <td>4.60</td>\n",
       "      <td>0.013257</td>\n",
       "      <td>0.115137</td>\n",
       "      <td>98.050000</td>\n",
       "      <td>80</td>\n",
       "      <td>5989.340909</td>\n",
       "      <td>77.390832</td>\n",
       "    </tr>\n",
       "  </tbody>\n",
       "</table>\n",
       "</div>"
      ],
      "text/plain": [
       "        City  Restaurant_id  User rating Average  User rating Median  \\\n",
       "0   Adelaide             98             4.394898                4.35   \n",
       "1   Brisbane            100             4.511000                4.50   \n",
       "2  Melbourne            100             4.668000                4.60   \n",
       "3      Perth             99             4.465657                4.40   \n",
       "4     Sydney            100             4.626000                4.60   \n",
       "\n",
       "   User rating Variance  User rating Std Deviation  Average Cost  Median Cost  \\\n",
       "0              0.027293                   0.165207     79.030612           75   \n",
       "1              0.013514                   0.116250     72.730000           60   \n",
       "2              0.008461                   0.091982    120.250000           90   \n",
       "3              0.021870                   0.147884     82.090909           65   \n",
       "4              0.013257                   0.115137     98.050000           80   \n",
       "\n",
       "   Variance Cost  Std Deviation Cost  \n",
       "0    2268.401115           47.627735  \n",
       "1    1799.330404           42.418515  \n",
       "2   10491.098485          102.426064  \n",
       "3    3145.634508           56.085956  \n",
       "4    5989.340909           77.390832  "
      ]
     },
     "execution_count": 15,
     "metadata": {},
     "output_type": "execute_result"
    }
   ],
   "source": [
    "#Group df by City\n",
    "group_all_cities = df497.groupby(\"City\")\n",
    "city_count = pd.DataFrame(group_all_cities[\"Restaurant_id\"].count())\n",
    "\n",
    "#Calculate the average user rating\n",
    "user_average = pd.DataFrame(group_all_cities[\"User Rating\"].mean())\n",
    "city_count[\"User rating Average\"] = user_average\n",
    "\n",
    "#Calculate the median user rating\n",
    "user_median = pd.DataFrame(group_all_cities[\"User Rating\"].median())\n",
    "city_count[\"User rating Median\"] = user_median\n",
    "\n",
    "#Calculate the standard deviation for user rating\n",
    "user_var = pd.DataFrame(group_all_cities[\"User Rating\"].var())\n",
    "city_count[\"User rating Variance\"] = user_var\n",
    "\n",
    "#Calculate the standard deviation for user rating\n",
    "user_stDev = pd.DataFrame(group_all_cities[\"User Rating\"].std())\n",
    "city_count[\"User rating Std Deviation\"] = user_stDev\n",
    "\n",
    "#Calculate the average user rating\n",
    "Cost_average = pd.DataFrame(group_all_cities[\"Average Cost for two\"].mean())\n",
    "city_count[\"Average Cost\"] = Cost_average\n",
    "\n",
    "#Calculate the median user rating\n",
    "Cost_median = pd.DataFrame(group_all_cities[\"Average Cost for two\"].median())\n",
    "city_count[\"Median Cost\"] = Cost_median\n",
    "\n",
    "#Calculate the standard deviation for user rating\n",
    "Cost_var = pd.DataFrame(group_all_cities[\"Average Cost for two\"].var())\n",
    "city_count[\"Variance Cost\"] = Cost_var\n",
    "\n",
    "#Calculate the standard deviation for user rating\n",
    "Cost_stDev = pd.DataFrame(group_all_cities[\"Average Cost for two\"].std())\n",
    "city_count[\"Std Deviation Cost\"] = Cost_stDev\n",
    "\n",
    "city_count.reset_index()\n"
   ]
  },
  {
   "cell_type": "code",
   "execution_count": 113,
   "metadata": {},
   "outputs": [
    {
     "name": "stdout",
     "output_type": "stream",
     "text": [
      " The average rating is 4.5338028169014315\n",
      " The average cost is 90.49295774647888\n",
      " The median cost is 70.0\n"
     ]
    }
   ],
   "source": [
    "#User rating average / Average cost /Median cost across all restaurants\n",
    "User_rating = df497[\"User Rating\"].mean()\n",
    "Cost_average = df497[\"Average Cost for two\"].mean()\n",
    "Cost_median = df497[\"Average Cost for two\"].median()\n",
    "\n",
    "print(f\" The average rating is {(User_rating)}\")\n",
    "print(f\" The average cost is {Cost_average}\")\n",
    "print(f\" The median cost is {Cost_median}\")"
   ]
  },
  {
   "cell_type": "markdown",
   "metadata": {},
   "source": [
    "Melbourne and Sydney have a slightly higher user rating than the other cities. \n",
    "Regarding the average cost, Melbourne seems more expensive and its standard deviation for average cost  is really high compare to other cities."
   ]
  },
  {
   "cell_type": "markdown",
   "metadata": {},
   "source": [
    "#Bar charts for the average user rating and average cost for two"
   ]
  },
  {
   "cell_type": "code",
   "execution_count": 116,
   "metadata": {},
   "outputs": [
    {
     "data": {
      "text/plain": [
       "<function matplotlib.pyplot.show(*args, **kw)>"
      ]
     },
     "execution_count": 116,
     "metadata": {},
     "output_type": "execute_result"
    },
    {
     "data": {
      "image/png": "[encoded data removed]",
      "text/plain": [
       "<Figure size 460.8x302.4 with 1 Axes>"
      ]
     },
     "metadata": {
      "needs_background": "light"
     },
     "output_type": "display_data"
    }
   ],
   "source": [
    "#Bar chart for the User rating\n",
    "City = [\"Adelaide\", \"Brisbane\", \"Melbourne\", \"Perth\", \"Sydney\"]\n",
    "\n",
    "#Set the axis and tick locations\n",
    "x = City\n",
    "y = city_count[\"User rating Average\"]\n",
    "tick_locations = [value for value in x]\n",
    "\n",
    "# Create a list indicating where to write x labels and set figure size to adjust for space\n",
    "plt.figure(figsize=(6.4,4.2))\n",
    "plt.bar(x, y, color='r', alpha=0.75, align=\"center\")\n",
    "plt.xticks(tick_locations, x, rotation=\"0\")\n",
    "\n",
    "# Set x and y limits\n",
    "plt.xlim(-0.5, len(x)-0.5)\n",
    "plt.ylim(4.2, max(y)+0.05)\n",
    "# Set a Title and labels\n",
    "plt.title(\"Average user rating per city\")\n",
    "plt.ylabel(\"User rating\")\n",
    "#Save image\n",
    "plt.savefig(\"images/Average user rating per city.png\")\n",
    "# Save our graph and show the grap\n",
    "plt.tight_layout()\n",
    "plt.show"
   ]
  },
  {
   "cell_type": "code",
   "execution_count": 99,
   "metadata": {},
   "outputs": [
    {
     "data": {
      "image/png": "[encoded data removed]",
      "text/plain": [
       "<Figure size 432x288 with 1 Axes>"
      ]
     },
     "metadata": {
      "needs_background": "light"
     },
     "output_type": "display_data"
    },
    {
     "data": {
      "text/plain": [
       "<Figure size 432x288 with 0 Axes>"
      ]
     },
     "metadata": {},
     "output_type": "display_data"
    }
   ],
   "source": [
    "#Breakdown of restaurants per user ratings across cities\n",
    "\n",
    "df2=df497.groupby(['City'])['User Rating'].value_counts().unstack('User Rating').fillna(0)\n",
    "df2.plot(kind='bar', stacked=True, legend=False, rot=0).legend(bbox_to_anchor=(1, 1))\n",
    "# Set textual properties\n",
    "plt.title(\"Number of restaurants per user ratings per city\")\n",
    "plt.ylabel(\"Number of restaurants\")\n",
    "plt.xlim(-0.5,len(df2)+1)\n",
    "plt.ylim(0,105)\n",
    "#Save image\n",
    "plt.savefig('images/Nb of restaurants per user ratings per city.png')\n",
    "# Show plot\n",
    "plt.show()\n",
    "plt.tight_layout()"
   ]
  },
  {
   "cell_type": "code",
   "execution_count": 100,
   "metadata": {},
   "outputs": [
    {
     "data": {
      "text/plain": [
       "<function matplotlib.pyplot.show(*args, **kw)>"
      ]
     },
     "execution_count": 100,
     "metadata": {},
     "output_type": "execute_result"
    },
    {
     "data": {
      "image/png": "[encoded data removed]",
      "text/plain": [
       "<Figure size 460.8x302.4 with 1 Axes>"
      ]
     },
     "metadata": {
      "needs_background": "light"
     },
     "output_type": "display_data"
    }
   ],
   "source": [
    "#Bar chart for the Average Cost\n",
    "City = [\"Adelaide\", \"Brisbane\", \"Melbourne\", \"Perth\", \"Sydney\"]\n",
    "#Set the axis and tick locations\n",
    "x = City\n",
    "y = city_count[\"Average Cost\"]\n",
    "tick_locations = [value for value in x]\n",
    "\n",
    "# Create a list indicating where to write x labels and set figure size to adjust for space\n",
    "plt.figure(figsize=(6.4,4.2))\n",
    "plt.bar(x, y, color='r', alpha=0.75, align=\"center\")\n",
    "plt.xticks(tick_locations, x, rotation=\"0\")\n",
    "\n",
    "# Set x and y limits\n",
    "plt.xlim(-0.5, len(x)-0.5)\n",
    "plt.ylim(0, max(y)+5)\n",
    "\n",
    "# Set a Title and labels\n",
    "plt.title(\"Average cost for two per city\")\n",
    "plt.ylabel(\"Average cost for two\")\n",
    "\n",
    "#Save image\n",
    "plt.savefig('images/Average cost per city.png')\n",
    "\n",
    "# Save our graph and show the grap\n",
    "plt.tight_layout()\n",
    "plt.show"
   ]
  },
  {
   "cell_type": "markdown",
   "metadata": {},
   "source": [
    "To understand better how the data is distributed we are going to do box plots for the average cost for two."
   ]
  },
  {
   "cell_type": "code",
   "execution_count": 24,
   "metadata": {},
   "outputs": [
    {
     "data": {
      "image/png": "[encoded data removed]",
      "text/plain": [
       "<Figure size 432x288 with 1 Axes>"
      ]
     },
     "metadata": {
      "needs_background": "light"
     },
     "output_type": "display_data"
    }
   ],
   "source": [
    "# Generate a box plot of the average cost for two across the five cities\n",
    "Avg_Melbourne = df497.loc[df497[\"City\"]==\"Melbourne\",\"Average Cost for two\"]\n",
    "Avg_Sydney = df497.loc[df497[\"City\"]==\"Sydney\",\"Average Cost for two\"]\n",
    "Avg_Adelaide = df497.loc[df497[\"City\"]==\"Adelaide\",\"Average Cost for two\"]\n",
    "Avg_Brisbane = df497.loc[df497[\"City\"]==\"Brisbane\",\"Average Cost for two\"]\n",
    "Avg_Perth = df497.loc[df497[\"City\"]==\"Perth\",\"Average Cost for two\"]\n",
    "\n",
    "all_cities_data = [Avg_Melbourne,Avg_Sydney, Avg_Adelaide,Avg_Brisbane,Avg_Perth]\n",
    "all_cities = [\"Melbourne\", \"Sydney\", \"Adelaide\", \"Brisbane\", \"Perth\"]\n",
    "red_square = dict(markerfacecolor='r', marker='s')\n",
    "\n",
    "fig1, ax1 = plt.subplots()\n",
    "ax1.set_title('Average Cost for two per city')\n",
    "ax1.set_xticklabels(all_cities, rotation=0, fontsize=10)\n",
    "ax1.set_ylabel('Average Cost for two')\n",
    "ax1.boxplot(all_cities_data, flierprops=red_square)\n",
    "#Save image \n",
    "plt.savefig('images/Outliers per city.png')\n",
    "plt.show()"
   ]
  },
  {
   "cell_type": "code",
   "execution_count": 84,
   "metadata": {},
   "outputs": [
    {
     "data": {
      "image/png": "[encoded data removed]",
      "text/plain": [
       "<Figure size 432x288 with 1 Axes>"
      ]
     },
     "metadata": {
      "needs_background": "light"
     },
     "output_type": "display_data"
    },
    {
     "name": "stdout",
     "output_type": "stream",
     "text": [
      "The correlation coefficient between User Rating and Average Cost for two is 0.29\n"
     ]
    }
   ],
   "source": [
    "#Scatter plot of the average cost two and average rating\n",
    "#Scatter plot Average cost for two vs User Rating\n",
    "x2 = df497[\"Average Cost for two\"]\n",
    "y2 = df497[\"User Rating\"] \n",
    "\n",
    "plt.scatter(x2,y2, color='blue', edgecolor = 'black', alpha=0.5)\n",
    "plt.xlabel('Average Cost for two ($)')\n",
    "plt.ylabel('User Rating')\n",
    "plt.title('User Rating vs Average Cost for two')\n",
    "plt.savefig('images/User Rating vs. Average Cost for two.png')\n",
    "plt.show()\n",
    "print(f\"The correlation coefficient between User Rating and Average Cost for two is {round(st.pearsonr(x2,y2)[0],2)}\")"
   ]
  },
  {
   "cell_type": "code",
   "execution_count": 85,
   "metadata": {},
   "outputs": [
    {
     "data": {
      "text/html": [
       "<div>\n",
       "<style scoped>\n",
       "    .dataframe tbody tr th:only-of-type {\n",
       "        vertical-align: middle;\n",
       "    }\n",
       "\n",
       "    .dataframe tbody tr th {\n",
       "        vertical-align: top;\n",
       "    }\n",
       "\n",
       "    .dataframe thead th {\n",
       "        text-align: right;\n",
       "    }\n",
       "</style>\n",
       "<table border=\"1\" class=\"dataframe\">\n",
       "  <thead>\n",
       "    <tr style=\"text-align: right;\">\n",
       "      <th></th>\n",
       "      <th>City</th>\n",
       "      <th>Price Range</th>\n",
       "      <th>Restaurant_Count</th>\n",
       "    </tr>\n",
       "  </thead>\n",
       "  <tbody>\n",
       "    <tr>\n",
       "      <th>0</th>\n",
       "      <td>Adelaide</td>\n",
       "      <td>3</td>\n",
       "      <td>53</td>\n",
       "    </tr>\n",
       "    <tr>\n",
       "      <th>1</th>\n",
       "      <td>Adelaide</td>\n",
       "      <td>2</td>\n",
       "      <td>28</td>\n",
       "    </tr>\n",
       "    <tr>\n",
       "      <th>2</th>\n",
       "      <td>Adelaide</td>\n",
       "      <td>4</td>\n",
       "      <td>17</td>\n",
       "    </tr>\n",
       "    <tr>\n",
       "      <th>3</th>\n",
       "      <td>Brisbane</td>\n",
       "      <td>2</td>\n",
       "      <td>39</td>\n",
       "    </tr>\n",
       "    <tr>\n",
       "      <th>4</th>\n",
       "      <td>Brisbane</td>\n",
       "      <td>3</td>\n",
       "      <td>36</td>\n",
       "    </tr>\n",
       "    <tr>\n",
       "      <th>5</th>\n",
       "      <td>Brisbane</td>\n",
       "      <td>4</td>\n",
       "      <td>22</td>\n",
       "    </tr>\n",
       "    <tr>\n",
       "      <th>6</th>\n",
       "      <td>Brisbane</td>\n",
       "      <td>1</td>\n",
       "      <td>3</td>\n",
       "    </tr>\n",
       "    <tr>\n",
       "      <th>7</th>\n",
       "      <td>Melbourne</td>\n",
       "      <td>4</td>\n",
       "      <td>48</td>\n",
       "    </tr>\n",
       "    <tr>\n",
       "      <th>8</th>\n",
       "      <td>Melbourne</td>\n",
       "      <td>3</td>\n",
       "      <td>35</td>\n",
       "    </tr>\n",
       "    <tr>\n",
       "      <th>9</th>\n",
       "      <td>Melbourne</td>\n",
       "      <td>2</td>\n",
       "      <td>15</td>\n",
       "    </tr>\n",
       "    <tr>\n",
       "      <th>10</th>\n",
       "      <td>Melbourne</td>\n",
       "      <td>1</td>\n",
       "      <td>2</td>\n",
       "    </tr>\n",
       "    <tr>\n",
       "      <th>11</th>\n",
       "      <td>Perth</td>\n",
       "      <td>3</td>\n",
       "      <td>38</td>\n",
       "    </tr>\n",
       "    <tr>\n",
       "      <th>12</th>\n",
       "      <td>Perth</td>\n",
       "      <td>2</td>\n",
       "      <td>34</td>\n",
       "    </tr>\n",
       "    <tr>\n",
       "      <th>13</th>\n",
       "      <td>Perth</td>\n",
       "      <td>4</td>\n",
       "      <td>26</td>\n",
       "    </tr>\n",
       "    <tr>\n",
       "      <th>14</th>\n",
       "      <td>Perth</td>\n",
       "      <td>1</td>\n",
       "      <td>1</td>\n",
       "    </tr>\n",
       "    <tr>\n",
       "      <th>15</th>\n",
       "      <td>Sydney</td>\n",
       "      <td>4</td>\n",
       "      <td>38</td>\n",
       "    </tr>\n",
       "    <tr>\n",
       "      <th>16</th>\n",
       "      <td>Sydney</td>\n",
       "      <td>3</td>\n",
       "      <td>32</td>\n",
       "    </tr>\n",
       "    <tr>\n",
       "      <th>17</th>\n",
       "      <td>Sydney</td>\n",
       "      <td>2</td>\n",
       "      <td>25</td>\n",
       "    </tr>\n",
       "    <tr>\n",
       "      <th>18</th>\n",
       "      <td>Sydney</td>\n",
       "      <td>1</td>\n",
       "      <td>5</td>\n",
       "    </tr>\n",
       "  </tbody>\n",
       "</table>\n",
       "</div>"
      ],
      "text/plain": [
       "         City  Price Range  Restaurant_Count\n",
       "0    Adelaide            3                53\n",
       "1    Adelaide            2                28\n",
       "2    Adelaide            4                17\n",
       "3    Brisbane            2                39\n",
       "4    Brisbane            3                36\n",
       "5    Brisbane            4                22\n",
       "6    Brisbane            1                 3\n",
       "7   Melbourne            4                48\n",
       "8   Melbourne            3                35\n",
       "9   Melbourne            2                15\n",
       "10  Melbourne            1                 2\n",
       "11      Perth            3                38\n",
       "12      Perth            2                34\n",
       "13      Perth            4                26\n",
       "14      Perth            1                 1\n",
       "15     Sydney            4                38\n",
       "16     Sydney            3                32\n",
       "17     Sydney            2                25\n",
       "18     Sydney            1                 5"
      ]
     },
     "execution_count": 85,
     "metadata": {},
     "output_type": "execute_result"
    }
   ],
   "source": [
    "#Group df by City\n",
    "group_all_cities = df497.groupby([\"City\"])\n",
    "#Calculation of the average cost and user-rating per city\n",
    "#Calculate the average cost for two per city\n",
    "price_range = pd.DataFrame(group_all_cities[\"Price Range\"].value_counts())\n",
    "price_range.columns = [\"Restaurant_Count\"]\n",
    "df = price_range.reset_index()\n",
    "df"
   ]
  },
  {
   "cell_type": "code",
   "execution_count": 77,
   "metadata": {},
   "outputs": [
    {
     "data": {
      "image/png": "[encoded data removed]",
      "text/plain": [
       "<Figure size 432x288 with 1 Axes>"
      ]
     },
     "metadata": {
      "needs_background": "light"
     },
     "output_type": "display_data"
    },
    {
     "data": {
      "text/plain": [
       "<Figure size 432x288 with 0 Axes>"
      ]
     },
     "metadata": {},
     "output_type": "display_data"
    }
   ],
   "source": [
    "#The number of restaurants per price range across cities.\n",
    "\n",
    "df2=df497.groupby(['City'])['Price Range'].value_counts().unstack('Price Range').fillna(0)\n",
    "df2.plot(kind='bar', stacked=True, legend=False, rot=0).legend(bbox_to_anchor=(-0.2, 1))\n",
    "# Set textual properties\n",
    "plt.title(\"Number of restaurants per price range per city\")\n",
    "plt.ylabel(\"Number of restaurants\")\n",
    "plt.xlim(-0.5,len(df2)-0.5)\n",
    "plt.ylim(0,105)\n",
    "#Save image\n",
    "plt.savefig('images/Nb of restaurants per price range per city.png')\n",
    "# Show plot\n",
    "plt.show()\n",
    "plt.tight_layout()"
   ]
  }
 ],
 "metadata": {
  "kernelspec": {
   "display_name": "Python [conda env:PythonData]",
   "language": "python",
   "name": "conda-env-PythonData-py"
  },
  "language_info": {
   "codemirror_mode": {
    "name": "ipython",
    "version": 3
   },
   "file_extension": ".py",
   "mimetype": "text/x-python",
   "name": "python",
   "nbconvert_exporter": "python",
   "pygments_lexer": "ipython3",
   "version": "3.6.10"
  }
 },
 "nbformat": 4,
 "nbformat_minor": 4
}
