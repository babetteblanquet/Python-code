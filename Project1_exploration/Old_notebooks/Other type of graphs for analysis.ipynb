{
 "cells": [
  {
   "cell_type": "code",
   "execution_count": 1,
   "metadata": {},
   "outputs": [],
   "source": [
    "# Dependencies and Setup\n",
    "import matplotlib.pyplot as plt\n",
    "import pandas as pd\n",
    "import numpy as np\n",
    "import requests\n",
    "import gmaps\n",
    "import json\n",
    "from pprint import pprint\n",
    "from config import g_key\n",
    "\n",
    "# Resource File (CSV)\n",
    "df = pd.read_csv(\"output_data/Top_100.csv\")"
   ]
  },
  {
   "cell_type": "code",
   "execution_count": null,
   "metadata": {},
   "outputs": [],
   "source": [
    "#Creating bar graphs with Pyploy\n",
    "\n",
    "#Set the axis and tick locations\n",
    "x = average_city[\"City\"]\n",
    "y = average_city[\"Average Cost for two\"]\n",
    "tick_locations = [value for value in x]\n",
    "\n",
    "# Create a list indicating where to write x labels and set figure size to adjust for space\n",
    "plt.figure(figsize=(6.4,4.2))\n",
    "plt.bar(x, y, color='r', alpha=0.6, align=\"center\")\n",
    "plt.xticks(tick_locations, x, rotation=\"90\")\n",
    "\n",
    "# Set x and y limits\n",
    "plt.xlim(-0.5, len(x)-0.5)\n",
    "plt.ylim(0, max(y)+5)\n",
    "\n",
    "# Set a Title and labels\n",
    "plt.title(\"Average Cost for two per city\")\n",
    "plt.ylabel(\"Average Cost for two\")\n",
    "\n",
    "# Save our graph and show the grap\n",
    "plt.tight_layout()\n",
    "plt.show"
   ]
  },
  {
   "cell_type": "code",
   "execution_count": null,
   "metadata": {},
   "outputs": [],
   "source": [
    "#Heatmap\n",
    "\n",
    "#Heatmap\n",
    "# Store 'Lat' and 'Lng' into  locations \n",
    "locations = df[[\"Latitude\", \"Longitude\"]].astype(float)\n",
    "\n",
    "#Store User rating value \n",
    "user_rating = df[\"User Rating\"].astype(float)\n",
    "\n",
    "# Create a User rating Heatmap layer\n",
    "fig = gmaps.figure()\n",
    "\n",
    "heat_layer = gmaps.heatmap_layer(locations, weights=user_rating, \n",
    "                                 dissipating=False, max_intensity=4.9,\n",
    "                                 point_radius = 1)\n",
    "\n",
    "fig.add_layer(heat_layer)\n",
    "\n",
    "fig"
   ]
  },
  {
   "cell_type": "code",
   "execution_count": null,
   "metadata": {},
   "outputs": [],
   "source": []
  }
 ],
 "metadata": {
  "kernelspec": {
   "display_name": "Python [conda env:PythonData]",
   "language": "python",
   "name": "conda-env-PythonData-py"
  },
  "language_info": {
   "codemirror_mode": {
    "name": "ipython",
    "version": 3
   },
   "file_extension": ".py",
   "mimetype": "text/x-python",
   "name": "python",
   "nbconvert_exporter": "python",
   "pygments_lexer": "ipython3",
   "version": "3.6.10"
  }
 },
 "nbformat": 4,
 "nbformat_minor": 4
}
